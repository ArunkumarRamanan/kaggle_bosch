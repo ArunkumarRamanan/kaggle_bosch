{
 "cells": [
  {
   "cell_type": "code",
   "execution_count": 2,
   "metadata": {
    "collapsed": true
   },
   "outputs": [],
   "source": [
    "import os\n",
    "import re\n",
    "import pickle\n",
    "import time\n",
    "import datetime\n",
    "\n",
    "import numpy as np\n",
    "import pandas as pd\n",
    "\n",
    "import seaborn as sns\n",
    "import matplotlib.pyplot as plt\n",
    "import matplotlib.gridspec as gridspec\n",
    "\n",
    "from scipy.sparse import csr_matrix, vstack\n",
    "\n",
    "%matplotlib inline\n",
    "\n",
    "# Custom modules\n",
    "import const\n",
    "import func"
   ]
  },
  {
   "cell_type": "markdown",
   "metadata": {},
   "source": [
    "## Load data"
   ]
  },
  {
   "cell_type": "code",
   "execution_count": 3,
   "metadata": {
    "collapsed": false
   },
   "outputs": [
    {
     "name": "stdout",
     "output_type": "stream",
     "text": [
      "['train_numeric', 'train_categorical_to_num', 'train_date']\n"
     ]
    }
   ],
   "source": [
    "print const.TRAIN_FILES"
   ]
  },
  {
   "cell_type": "code",
   "execution_count": 4,
   "metadata": {
    "collapsed": false
   },
   "outputs": [
    {
     "data": {
      "text/html": [
       "<div>\n",
       "<table border=\"1\" class=\"dataframe\">\n",
       "  <thead>\n",
       "    <tr style=\"text-align: right;\">\n",
       "      <th></th>\n",
       "      <th>line</th>\n",
       "      <th>station</th>\n",
       "      <th>feature_nr</th>\n",
       "      <th>feat_nr_dat</th>\n",
       "      <th>name_dat</th>\n",
       "      <th>name_cat</th>\n",
       "      <th>name_num</th>\n",
       "      <th>col_dat</th>\n",
       "      <th>col_num</th>\n",
       "      <th>col_cat</th>\n",
       "      <th>station_V2</th>\n",
       "      <th>line_V2</th>\n",
       "    </tr>\n",
       "  </thead>\n",
       "  <tbody>\n",
       "    <tr>\n",
       "      <th>0</th>\n",
       "      <td>0</td>\n",
       "      <td>0</td>\n",
       "      <td>0</td>\n",
       "      <td>1.0</td>\n",
       "      <td>L0_S0_D1</td>\n",
       "      <td>NaN</td>\n",
       "      <td>L0_S0_F0</td>\n",
       "      <td>0.0</td>\n",
       "      <td>0.0</td>\n",
       "      <td>NaN</td>\n",
       "      <td>0.0</td>\n",
       "      <td>1.0</td>\n",
       "    </tr>\n",
       "    <tr>\n",
       "      <th>1</th>\n",
       "      <td>0</td>\n",
       "      <td>0</td>\n",
       "      <td>2</td>\n",
       "      <td>3.0</td>\n",
       "      <td>L0_S0_D3</td>\n",
       "      <td>NaN</td>\n",
       "      <td>L0_S0_F2</td>\n",
       "      <td>1.0</td>\n",
       "      <td>1.0</td>\n",
       "      <td>NaN</td>\n",
       "      <td>0.0</td>\n",
       "      <td>1.0</td>\n",
       "    </tr>\n",
       "    <tr>\n",
       "      <th>2</th>\n",
       "      <td>0</td>\n",
       "      <td>0</td>\n",
       "      <td>4</td>\n",
       "      <td>5.0</td>\n",
       "      <td>L0_S0_D5</td>\n",
       "      <td>NaN</td>\n",
       "      <td>L0_S0_F4</td>\n",
       "      <td>2.0</td>\n",
       "      <td>2.0</td>\n",
       "      <td>NaN</td>\n",
       "      <td>0.0</td>\n",
       "      <td>1.0</td>\n",
       "    </tr>\n",
       "  </tbody>\n",
       "</table>\n",
       "</div>"
      ],
      "text/plain": [
       "   line  station  feature_nr  feat_nr_dat  name_dat name_cat  name_num  \\\n",
       "0     0        0           0          1.0  L0_S0_D1      NaN  L0_S0_F0   \n",
       "1     0        0           2          3.0  L0_S0_D3      NaN  L0_S0_F2   \n",
       "2     0        0           4          5.0  L0_S0_D5      NaN  L0_S0_F4   \n",
       "\n",
       "   col_dat  col_num  col_cat  station_V2  line_V2  \n",
       "0      0.0      0.0      NaN         0.0      1.0  \n",
       "1      1.0      1.0      NaN         0.0      1.0  \n",
       "2      2.0      2.0      NaN         0.0      1.0  "
      ]
     },
     "execution_count": 4,
     "metadata": {},
     "output_type": "execute_result"
    }
   ],
   "source": [
    "lut = pd.read_csv(const.LOOK_UP_TABLE)\n",
    "lut.head(3)"
   ]
  },
  {
   "cell_type": "code",
   "execution_count": 5,
   "metadata": {
    "collapsed": false
   },
   "outputs": [
    {
     "name": "stdout",
     "output_type": "stream",
     "text": [
      "Returning <open file '/Volumes/My Book/kaggle_bosch/train_categorical_to_num.pkl', mode 'rb' at 0x115c4fc00>.pkl\n"
     ]
    }
   ],
   "source": [
    "cat = func.load_data_file(const.TRAIN_FILES[1])\n",
    "cat_data = cat['data']['features']"
   ]
  },
  {
   "cell_type": "code",
   "execution_count": 7,
   "metadata": {
    "collapsed": false
   },
   "outputs": [
    {
     "name": "stdout",
     "output_type": "stream",
     "text": [
      "(1183747, 11)\n"
     ]
    },
    {
     "data": {
      "text/html": [
       "<div>\n",
       "<table border=\"1\" class=\"dataframe\">\n",
       "  <thead>\n",
       "    <tr style=\"text-align: right;\">\n",
       "      <th></th>\n",
       "      <th>CATEGORICAL_Last_____1</th>\n",
       "      <th>CATEGORICAL_out_out_L3_S32_F3854_class2</th>\n",
       "      <th>CATEGORICAL_Unique count</th>\n",
       "      <th>CATEGORICAL_Missing value count</th>\n",
       "      <th>CATEGORICAL_Last_____2</th>\n",
       "      <th>CATEGORICAL_out_L3_S32_F3854_class1</th>\n",
       "      <th>CATEGORICAL_Max______1</th>\n",
       "      <th>CATEGORICAL_Max______3</th>\n",
       "      <th>L1_L1_Missing value count</th>\n",
       "      <th>L3_L3_Missing value count</th>\n",
       "      <th>L3_L3_Unique count</th>\n",
       "    </tr>\n",
       "  </thead>\n",
       "  <tbody>\n",
       "    <tr>\n",
       "      <th>0</th>\n",
       "      <td>False</td>\n",
       "      <td>0</td>\n",
       "      <td>0</td>\n",
       "      <td>2140</td>\n",
       "      <td>False</td>\n",
       "      <td>0</td>\n",
       "      <td>False</td>\n",
       "      <td>False</td>\n",
       "      <td>1227</td>\n",
       "      <td>431</td>\n",
       "      <td>0</td>\n",
       "    </tr>\n",
       "    <tr>\n",
       "      <th>1</th>\n",
       "      <td>False</td>\n",
       "      <td>0</td>\n",
       "      <td>0</td>\n",
       "      <td>2140</td>\n",
       "      <td>False</td>\n",
       "      <td>0</td>\n",
       "      <td>False</td>\n",
       "      <td>False</td>\n",
       "      <td>1227</td>\n",
       "      <td>431</td>\n",
       "      <td>0</td>\n",
       "    </tr>\n",
       "    <tr>\n",
       "      <th>2</th>\n",
       "      <td>False</td>\n",
       "      <td>0</td>\n",
       "      <td>1</td>\n",
       "      <td>2077</td>\n",
       "      <td>False</td>\n",
       "      <td>0</td>\n",
       "      <td>False</td>\n",
       "      <td>False</td>\n",
       "      <td>1227</td>\n",
       "      <td>368</td>\n",
       "      <td>1</td>\n",
       "    </tr>\n",
       "  </tbody>\n",
       "</table>\n",
       "</div>"
      ],
      "text/plain": [
       "  CATEGORICAL_Last_____1  CATEGORICAL_out_out_L3_S32_F3854_class2  \\\n",
       "0                  False                                        0   \n",
       "1                  False                                        0   \n",
       "2                  False                                        0   \n",
       "\n",
       "   CATEGORICAL_Unique count  CATEGORICAL_Missing value count  \\\n",
       "0                         0                             2140   \n",
       "1                         0                             2140   \n",
       "2                         1                             2077   \n",
       "\n",
       "  CATEGORICAL_Last_____2  CATEGORICAL_out_L3_S32_F3854_class1  \\\n",
       "0                  False                                    0   \n",
       "1                  False                                    0   \n",
       "2                  False                                    0   \n",
       "\n",
       "  CATEGORICAL_Max______1 CATEGORICAL_Max______3  L1_L1_Missing value count  \\\n",
       "0                  False                  False                       1227   \n",
       "1                  False                  False                       1227   \n",
       "2                  False                  False                       1227   \n",
       "\n",
       "   L3_L3_Missing value count  L3_L3_Unique count  \n",
       "0                        431                   0  \n",
       "1                        431                   0  \n",
       "2                        368                   1  "
      ]
     },
     "execution_count": 7,
     "metadata": {},
     "output_type": "execute_result"
    }
   ],
   "source": [
    "# Load jayjay's features\n",
    "cat_jay = pd.read_csv('data_jayjay/train.csv')\n",
    "cat_cols = list(cat_jay.filter(like='CATEGORICAL').columns) + ['L1_L1_Missing value count',\n",
    "                                                               'L3_L3_Missing value count',\n",
    "                                                               'L3_L3_Unique count']\n",
    "cat_jay = cat_jay[cat_cols]\n",
    "print cat_jay.shape\n",
    "cat_jay.head(3)"
   ]
  },
  {
   "cell_type": "markdown",
   "metadata": {},
   "source": [
    "## Reproduce JayJay's features"
   ]
  },
  {
   "cell_type": "code",
   "execution_count": 8,
   "metadata": {
    "collapsed": false
   },
   "outputs": [
    {
     "name": "stdout",
     "output_type": "stream",
     "text": [
      "CATEGORICAL_Last_____1                        0.004167\n",
      "CATEGORICAL_out_out_L3_S32_F3854_class2       0.008123\n",
      "CATEGORICAL_Unique count                      1.433055\n",
      "CATEGORICAL_Missing value count            2082.850172\n",
      "CATEGORICAL_Last_____2                        0.003489\n",
      "CATEGORICAL_out_L3_S32_F3854_class1           0.003434\n",
      "CATEGORICAL_Max______1                        0.002749\n",
      "CATEGORICAL_Max______3                        0.307366\n",
      "L1_L1_Missing value count                  1220.368586\n",
      "L3_L3_Missing value count                   388.670341\n",
      "L3_L3_Unique count                            0.737975\n",
      "dtype: float64\n"
     ]
    }
   ],
   "source": [
    "jay_means = cat_jay.mean()\n",
    "jay_sums = cat_jay.sum()\n",
    "print jay_means"
   ]
  },
  {
   "cell_type": "code",
   "execution_count": 37,
   "metadata": {
    "collapsed": true
   },
   "outputs": [],
   "source": [
    "def missing_value_count(X):\n",
    "    ''' Returns count of missing values per row of sparse matrix X'''\n",
    "    \n",
    "    return X.shape[1] - np.diff(X.indptr)\n",
    "\n",
    "def value_last_element_row(X):\n",
    "    ''' Return last value of each row of sparse csr matrix X'''\n",
    "    \n",
    "    # Get element where new row starts -1\n",
    "    last = X.indptr[1:] - 1\n",
    "    \n",
    "    output = X.data[last]\n",
    "    \n",
    "    # Replace row with zero non-zero elements by nan\n",
    "    output[np.diff(X.indptr)==0] = np.nan\n",
    "    \n",
    "    return output\n",
    "\n",
    "def max_element_row(X):\n",
    "    ''' Return maximum value of each row of sparse csr matrix X'''\n",
    "    ''' nan values are assumed to be encoded as zero'''\n",
    "    \n",
    "    output = X.max(1).todense().A1\n",
    "    \n",
    "    output[output==0] = np.nan\n",
    "    \n",
    "    return output\n",
    "\n",
    "def alpha_num_max_element_row(X):\n",
    "    ''' Return alpha num maximum value of each row of sparse csr matrix X'''\n",
    "    ''' nan values are assumed to be encoded as zero'''\n",
    "    ''' Lazy, slow implementation, via data/indtptr much faster'''\n",
    "    \n",
    "    output= []\n",
    "    \n",
    "    for n in range(X.shape[0]):\n",
    "        nz = X[n,:].nonzero()[1]\n",
    "        \n",
    "        if nz.shape[0]>0:\n",
    "            data = ['{:d}'.format(int(x)) for x in set(X[n, nz].todense().A1)]\n",
    "            output.append( int(float(max(data))))\n",
    "        else:\n",
    "            #output.append(np.nan)\n",
    "            output.append(0)\n",
    "    \n",
    "    return output\n",
    "\n",
    "def nunique_row(X):\n",
    "    ''' Return number of unique per row'''\n",
    "    ''' Lazy, slow implementation, via data/indtptr much faster'''\n",
    "    \n",
    "    output= []\n",
    "    \n",
    "    for n in range(X.shape[0]):\n",
    "        nz = X[n,:].nonzero()[1]\n",
    "        \n",
    "        if nz.shape[0]>0:\n",
    "            output.append( len(set(X[n, nz].todense().A1)))\n",
    "        else:\n",
    "            output.append(0)\n",
    "        \n",
    "    return output"
   ]
  },
  {
   "cell_type": "code",
   "execution_count": 57,
   "metadata": {
    "collapsed": false
   },
   "outputs": [
    {
     "name": "stdout",
     "output_type": "stream",
     "text": [
      "1220.36858636\n",
      "1220.36858636\n"
     ]
    }
   ],
   "source": [
    "# 'L1_L1_Missing value count',\n",
    "col_l1 = [int(i) for i in lut[lut['line']==1].col_cat.values if not np.isnan(i)]\n",
    "\n",
    "print jay_means['L1_L1_Missing value count']\n",
    "print pd.Series(missing_value_count(cat_data[:, col_l1])).mean()"
   ]
  },
  {
   "cell_type": "code",
   "execution_count": 58,
   "metadata": {
    "collapsed": false
   },
   "outputs": [
    {
     "name": "stdout",
     "output_type": "stream",
     "text": [
      "388.670340875\n",
      "387.67034172\n"
     ]
    }
   ],
   "source": [
    "# 'L3_L3_Missing value count'\n",
    "col_l3 = [int(i) for i in lut[lut['line']==3].col_cat.values if not np.isnan(i)]\n",
    "\n",
    "print jay_means['L3_L3_Missing value count']\n",
    "print pd.Series(missing_value_count(cat_data[:, col_l3])).mean()"
   ]
  },
  {
   "cell_type": "code",
   "execution_count": 59,
   "metadata": {
    "collapsed": false
   },
   "outputs": [
    {
     "name": "stdout",
     "output_type": "stream",
     "text": [
      "0.737975259916\n",
      "0.737975259916\n"
     ]
    }
   ],
   "source": [
    "# 'L3_L3_Unique count'\n",
    "col_l3 = [int(i) for i in lut[lut['line']==3].col_cat.values if not np.isnan(i)]\n",
    "\n",
    "print jay_means['L3_L3_Unique count']\n",
    "print pd.Series(nunique_row(cat_data[:, col_l3])).mean()"
   ]
  },
  {
   "cell_type": "code",
   "execution_count": 10,
   "metadata": {
    "collapsed": false
   },
   "outputs": [
    {
     "data": {
      "text/plain": [
       "0.0041672756087238238"
      ]
     },
     "execution_count": 10,
     "metadata": {},
     "output_type": "execute_result"
    }
   ],
   "source": [
    "# CATEGORICAL_Last_____1\n",
    "n_last = cat_data[n,:].nonzero()[1][-1]\n",
    "sum([2, 4, 514] == cat_data[n, n_last])\n",
    "print jay_means['CATEGORICAL_Last_____1']\n",
    "pd.Series(value_last_element_row(cat_data)).isin([2, 4, 514]).mean()"
   ]
  },
  {
   "cell_type": "code",
   "execution_count": 65,
   "metadata": {
    "collapsed": false
   },
   "outputs": [
    {
     "data": {
      "text/plain": [
       "0.0034889211968435821"
      ]
     },
     "execution_count": 65,
     "metadata": {},
     "output_type": "execute_result"
    }
   ],
   "source": [
    "# CATEGORICAL_Last_____2\n",
    "print jay_means['CATEGORICAL_Last_____2']\n",
    "pd.Series(value_last_element_row(cat_data)).isin([16, 48]).mean()"
   ]
  },
  {
   "cell_type": "code",
   "execution_count": 149,
   "metadata": {
    "collapsed": false
   },
   "outputs": [
    {
     "data": {
      "text/plain": [
       "2082.8501723763607"
      ]
     },
     "execution_count": 149,
     "metadata": {},
     "output_type": "execute_result"
    }
   ],
   "source": [
    "## CATEGORICAL_Missing value count\n",
    "print jay_means['CATEGORICAL_Missing value count']\n",
    "pd.Series(cat_data.shape[1] - np.diff(cat_data.indptr)).mean()"
   ]
  },
  {
   "cell_type": "code",
   "execution_count": 102,
   "metadata": {
    "collapsed": false
   },
   "outputs": [
    {
     "data": {
      "text/plain": [
       "0.0027488982020651372"
      ]
     },
     "execution_count": 102,
     "metadata": {},
     "output_type": "execute_result"
    }
   ],
   "source": [
    "# CATEGORICAL_Max______1 (takes a while)\n",
    "list1 = [2, 8389632, 514]\n",
    "print jay_means['CATEGORICAL_Max______1']\n",
    "pd.Series(alpha_num_max_element_row(cat_data)).isin(list1).mean()"
   ]
  },
  {
   "cell_type": "code",
   "execution_count": 103,
   "metadata": {
    "collapsed": false
   },
   "outputs": [
    {
     "data": {
      "text/plain": [
       "0.30736635446594585"
      ]
     },
     "execution_count": 103,
     "metadata": {},
     "output_type": "execute_result"
    }
   ],
   "source": [
    "# CATEGORICAL_Max______3 (takes a while)\n",
    "list3 = [3, 145, 4, 143, 8, 512, 6, 32]\n",
    "print jay_means['CATEGORICAL_Max______3']\n",
    "pd.Series(alpha_num_max_element_row(cat_data)).isin(list3).mean()"
   ]
  },
  {
   "cell_type": "code",
   "execution_count": 148,
   "metadata": {
    "collapsed": false
   },
   "outputs": [
    {
     "data": {
      "text/plain": [
       "1.433054529388459"
      ]
     },
     "execution_count": 148,
     "metadata": {},
     "output_type": "execute_result"
    }
   ],
   "source": [
    "# CATEGORICAL_Unique count\n",
    "print jay_means['CATEGORICAL_Unique count']\n",
    "pd.Series(nunique_row(cat_data)).mean()"
   ]
  },
  {
   "cell_type": "code",
   "execution_count": 58,
   "metadata": {
    "collapsed": true
   },
   "outputs": [],
   "source": [
    "# CATEGORICAL_out_L3_S32_F3854_class2\n",
    "# CATEGORICAL_out_out_L3_S32_F3854_class2       0.008123\n",
    "tmp = np.zeros(d.shape)\n",
    "tmp[(d==2).values] = 2\n",
    "tmp[(d==4).values] = 2"
   ]
  },
  {
   "cell_type": "code",
   "execution_count": 59,
   "metadata": {
    "collapsed": false
   },
   "outputs": [
    {
     "data": {
      "text/plain": [
       "0.0081233574403990049"
      ]
     },
     "execution_count": 59,
     "metadata": {},
     "output_type": "execute_result"
    }
   ],
   "source": [
    "tmp.mean()"
   ]
  },
  {
   "cell_type": "code",
   "execution_count": null,
   "metadata": {
    "collapsed": true
   },
   "outputs": [],
   "source": []
  }
 ],
 "metadata": {
  "kernelspec": {
   "display_name": "Python 2",
   "language": "python",
   "name": "python2"
  },
  "language_info": {
   "codemirror_mode": {
    "name": "ipython",
    "version": 2
   },
   "file_extension": ".py",
   "mimetype": "text/x-python",
   "name": "python",
   "nbconvert_exporter": "python",
   "pygments_lexer": "ipython2",
   "version": "2.7.11"
  }
 },
 "nbformat": 4,
 "nbformat_minor": 0
}
