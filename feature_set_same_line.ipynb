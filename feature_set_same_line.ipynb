{
 "cells": [
  {
   "cell_type": "code",
   "execution_count": 1,
   "metadata": {
    "collapsed": true
   },
   "outputs": [],
   "source": [
    "import os\n",
    "import re\n",
    "import pickle\n",
    "import time\n",
    "import datetime\n",
    "\n",
    "import numpy as np\n",
    "import pandas as pd\n",
    "\n",
    "import seaborn as sns\n",
    "import matplotlib.pyplot as plt\n",
    "import matplotlib.gridspec as gridspec\n",
    "\n",
    "from scipy.sparse import csr_matrix, vstack\n",
    "\n",
    "%matplotlib inline\n",
    "\n",
    "# Custom modules\n",
    "import const\n",
    "import func"
   ]
  },
  {
   "cell_type": "code",
   "execution_count": 2,
   "metadata": {
    "collapsed": false
   },
   "outputs": [
    {
     "data": {
      "text/html": [
       "<div>\n",
       "<table border=\"1\" class=\"dataframe\">\n",
       "  <thead>\n",
       "    <tr style=\"text-align: right;\">\n",
       "      <th></th>\n",
       "      <th>line</th>\n",
       "      <th>station</th>\n",
       "      <th>feature_nr</th>\n",
       "      <th>feat_nr_dat</th>\n",
       "      <th>name_dat</th>\n",
       "      <th>name_cat</th>\n",
       "      <th>name_num</th>\n",
       "      <th>col_dat</th>\n",
       "      <th>col_num</th>\n",
       "      <th>col_cat</th>\n",
       "      <th>station_V2</th>\n",
       "      <th>line_V2</th>\n",
       "    </tr>\n",
       "  </thead>\n",
       "  <tbody>\n",
       "    <tr>\n",
       "      <th>0</th>\n",
       "      <td>0</td>\n",
       "      <td>0</td>\n",
       "      <td>0</td>\n",
       "      <td>1.0</td>\n",
       "      <td>L0_S0_D1</td>\n",
       "      <td>NaN</td>\n",
       "      <td>L0_S0_F0</td>\n",
       "      <td>0.0</td>\n",
       "      <td>0.0</td>\n",
       "      <td>NaN</td>\n",
       "      <td>0.0</td>\n",
       "      <td>1.0</td>\n",
       "    </tr>\n",
       "    <tr>\n",
       "      <th>1</th>\n",
       "      <td>0</td>\n",
       "      <td>0</td>\n",
       "      <td>2</td>\n",
       "      <td>3.0</td>\n",
       "      <td>L0_S0_D3</td>\n",
       "      <td>NaN</td>\n",
       "      <td>L0_S0_F2</td>\n",
       "      <td>1.0</td>\n",
       "      <td>1.0</td>\n",
       "      <td>NaN</td>\n",
       "      <td>0.0</td>\n",
       "      <td>1.0</td>\n",
       "    </tr>\n",
       "    <tr>\n",
       "      <th>2</th>\n",
       "      <td>0</td>\n",
       "      <td>0</td>\n",
       "      <td>4</td>\n",
       "      <td>5.0</td>\n",
       "      <td>L0_S0_D5</td>\n",
       "      <td>NaN</td>\n",
       "      <td>L0_S0_F4</td>\n",
       "      <td>2.0</td>\n",
       "      <td>2.0</td>\n",
       "      <td>NaN</td>\n",
       "      <td>0.0</td>\n",
       "      <td>1.0</td>\n",
       "    </tr>\n",
       "  </tbody>\n",
       "</table>\n",
       "</div>"
      ],
      "text/plain": [
       "   line  station  feature_nr  feat_nr_dat  name_dat name_cat  name_num  \\\n",
       "0     0        0           0          1.0  L0_S0_D1      NaN  L0_S0_F0   \n",
       "1     0        0           2          3.0  L0_S0_D3      NaN  L0_S0_F2   \n",
       "2     0        0           4          5.0  L0_S0_D5      NaN  L0_S0_F4   \n",
       "\n",
       "   col_dat  col_num  col_cat  station_V2  line_V2  \n",
       "0      0.0      0.0      NaN         0.0      1.0  \n",
       "1      1.0      1.0      NaN         0.0      1.0  \n",
       "2      2.0      2.0      NaN         0.0      1.0  "
      ]
     },
     "execution_count": 2,
     "metadata": {},
     "output_type": "execute_result"
    }
   ],
   "source": [
    "lut = pd.read_csv(const.LOOK_UP_TABLE)\n",
    "lut.head(3)"
   ]
  },
  {
   "cell_type": "code",
   "execution_count": 7,
   "metadata": {
    "collapsed": false
   },
   "outputs": [
    {
     "name": "stdout",
     "output_type": "stream",
     "text": [
      "Returning <open file '/Volumes/My Book/kaggle_bosch/train_date.pkl', mode 'rb' at 0x115a58c90>.pkl\n",
      "Returning <open file '/Volumes/My Book/kaggle_bosch/test_date.pkl', mode 'rb' at 0x115a58c90>.pkl\n"
     ]
    }
   ],
   "source": [
    "use_sets = 0 # 0: both, 1: train, 2:test\n",
    "\n",
    "dat = func.load_data_file(const.TRAIN_FILES[2])\n",
    "dat_train = dat['data']['features']\n",
    "id_train = dat['data']['ids']\n",
    "\n",
    "dat = func.load_data_file(const.TEST_FILES[2])\n",
    "\n",
    "if use_sets==0:\n",
    "    dat_data = vstack([dat_train, dat['data']['features']], format='csr')\n",
    "    ids = pd.concat([id_train, dat['data']['ids']], axis=0)\n",
    "elif use_sets==1: # Only train\n",
    "    dat_data = dat_train\n",
    "    ids = id_train\n",
    "elif use_sets==2: # Only test\n",
    "    dat_data = dat['data']['features']\n",
    "    ids = dat['data']['ids']\n",
    "    \n",
    "del dat, dat_train, id_train"
   ]
  },
  {
   "cell_type": "markdown",
   "metadata": {},
   "source": [
    "## Calculate features based on jayjay definition"
   ]
  },
  {
   "cell_type": "code",
   "execution_count": 8,
   "metadata": {
    "collapsed": false
   },
   "outputs": [],
   "source": [
    "# Prepare dataframe with maximum timestamp per sample\n",
    "df = pd.DataFrame(columns=['L0max','L1max','L2max','L3max'], index=ids.Id)\n",
    "\n",
    "for l in range(4):\n",
    "    \n",
    "    # Get column numbers of sparse matrix belonging to this line\n",
    "    col_date = [int(i) for i in lut[lut['line']==l].col_dat.values if not np.isnan(i)]\n",
    "\n",
    "    # Get maximum timestamp for tis line\n",
    "    df['L{}max'.format(l)] = dat_data[:, col_date].max(1).todense().A1\n",
    "    \n",
    "    # Because of sparse matrix NA were encoded as zero\n",
    "    df['L{}max'.format(l)].replace(0, np.nan, inplace=True)\n",
    "    \n",
    "    # \n",
    "    df['L{}max'.format(l)].round(2)\n",
    "\n",
    "# Get row index as column to check sorting afterwards\n",
    "df.reset_index(inplace=True)\n",
    "df.reset_index(inplace=True)\n",
    "\n",
    "# Sort by ID\n",
    "df.sort_values(['Id'], inplace=True)\n",
    "\n",
    "# Add columns with next and previous timestamp per line\n",
    "for col in df.columns:\n",
    "    df[col + '_prev'] = df[col].shift(1)\n",
    "    df[col + '_next'] = df[col].shift(-1)\n",
    "\n",
    "df.set_index('Id', inplace=True)"
   ]
  },
  {
   "cell_type": "code",
   "execution_count": 9,
   "metadata": {
    "collapsed": true
   },
   "outputs": [],
   "source": [
    "# List to keep track of all the columns we generated. Useful for some operations later.\n",
    "feat_cols = []\n",
    "\n",
    "for l in range(4):\n",
    "    \n",
    "    # Samples are the same if they are both NA or have the same timestamp\n",
    "    df['sameL{}_next'.format(l)] = 1 * (df['L{}max'.format(l)]==df['L{}max_next'.format(l)]).astype(int) + \\\n",
    "                              1 * ((df['L{}max'.format(l)].isnull()) & (df['L{}max_next'.format(l)].isnull())).astype(int)\n",
    "    \n",
    "    # Samples are the same if they are both NA or have the same timestamp\n",
    "    df['sameL{}_prev'.format(l)] = 1 * (df['L{}max'.format(l)]==df['L{}max_prev'.format(l)]).astype(int) + \\\n",
    "                              1 * ((df['L{}max'.format(l)].isnull()) & (df['L{}max_prev'.format(l)].isnull())).astype(int)\n",
    "        \n",
    "    feat_cols += ['sameL{}_prev'.format(l), 'sameL{}_next'.format(l)]"
   ]
  },
  {
   "cell_type": "code",
   "execution_count": 11,
   "metadata": {
    "collapsed": true
   },
   "outputs": [],
   "source": [
    "df.sort_values('index', inplace=True)"
   ]
  },
  {
   "cell_type": "code",
   "execution_count": 25,
   "metadata": {
    "collapsed": false
   },
   "outputs": [
    {
     "data": {
      "text/html": [
       "<div>\n",
       "<table border=\"1\" class=\"dataframe\">\n",
       "  <thead>\n",
       "    <tr style=\"text-align: right;\">\n",
       "      <th></th>\n",
       "      <th>index</th>\n",
       "      <th>L1.0_V2_MAX</th>\n",
       "      <th>L2.0_V2_MAX</th>\n",
       "      <th>L3.1_V2_MAX</th>\n",
       "      <th>L3.2_V2_MAX</th>\n",
       "      <th>L3.3_V2_MAX</th>\n",
       "      <th>L4.1_V2_MAX</th>\n",
       "      <th>L4.0_V2_MAX</th>\n",
       "      <th>L4.2_V2_MAX</th>\n",
       "      <th>L4.3_V2_MAX</th>\n",
       "      <th>...</th>\n",
       "      <th>sameL4.3_V2_next</th>\n",
       "      <th>sameL4.3_V2_prev</th>\n",
       "      <th>sameL4.4_V2_next</th>\n",
       "      <th>sameL4.4_V2_prev</th>\n",
       "      <th>sameL5.0_V2_next</th>\n",
       "      <th>sameL5.0_V2_prev</th>\n",
       "      <th>sameL6.0_V2_next</th>\n",
       "      <th>sameL6.0_V2_prev</th>\n",
       "      <th>sameL7.0_V2_next</th>\n",
       "      <th>sameL7.0_V2_prev</th>\n",
       "    </tr>\n",
       "    <tr>\n",
       "      <th>Id</th>\n",
       "      <th></th>\n",
       "      <th></th>\n",
       "      <th></th>\n",
       "      <th></th>\n",
       "      <th></th>\n",
       "      <th></th>\n",
       "      <th></th>\n",
       "      <th></th>\n",
       "      <th></th>\n",
       "      <th></th>\n",
       "      <th></th>\n",
       "      <th></th>\n",
       "      <th></th>\n",
       "      <th></th>\n",
       "      <th></th>\n",
       "      <th></th>\n",
       "      <th></th>\n",
       "      <th></th>\n",
       "      <th></th>\n",
       "      <th></th>\n",
       "      <th></th>\n",
       "    </tr>\n",
       "  </thead>\n",
       "  <tbody>\n",
       "    <tr>\n",
       "      <th>4</th>\n",
       "      <td>0</td>\n",
       "      <td>82.269997</td>\n",
       "      <td>NaN</td>\n",
       "      <td>NaN</td>\n",
       "      <td>NaN</td>\n",
       "      <td>NaN</td>\n",
       "      <td>NaN</td>\n",
       "      <td>NaN</td>\n",
       "      <td>NaN</td>\n",
       "      <td>NaN</td>\n",
       "      <td>...</td>\n",
       "      <td>1</td>\n",
       "      <td>1</td>\n",
       "      <td>1</td>\n",
       "      <td>1</td>\n",
       "      <td>0</td>\n",
       "      <td>0</td>\n",
       "      <td>0</td>\n",
       "      <td>0</td>\n",
       "      <td>1</td>\n",
       "      <td>1</td>\n",
       "    </tr>\n",
       "    <tr>\n",
       "      <th>6</th>\n",
       "      <td>1</td>\n",
       "      <td>NaN</td>\n",
       "      <td>1313.150024</td>\n",
       "      <td>NaN</td>\n",
       "      <td>NaN</td>\n",
       "      <td>NaN</td>\n",
       "      <td>NaN</td>\n",
       "      <td>NaN</td>\n",
       "      <td>NaN</td>\n",
       "      <td>NaN</td>\n",
       "      <td>...</td>\n",
       "      <td>1</td>\n",
       "      <td>1</td>\n",
       "      <td>1</td>\n",
       "      <td>1</td>\n",
       "      <td>1</td>\n",
       "      <td>0</td>\n",
       "      <td>0</td>\n",
       "      <td>0</td>\n",
       "      <td>1</td>\n",
       "      <td>1</td>\n",
       "    </tr>\n",
       "    <tr>\n",
       "      <th>7</th>\n",
       "      <td>2</td>\n",
       "      <td>1618.729980</td>\n",
       "      <td>NaN</td>\n",
       "      <td>NaN</td>\n",
       "      <td>NaN</td>\n",
       "      <td>NaN</td>\n",
       "      <td>NaN</td>\n",
       "      <td>NaN</td>\n",
       "      <td>NaN</td>\n",
       "      <td>NaN</td>\n",
       "      <td>...</td>\n",
       "      <td>1</td>\n",
       "      <td>1</td>\n",
       "      <td>1</td>\n",
       "      <td>1</td>\n",
       "      <td>0</td>\n",
       "      <td>1</td>\n",
       "      <td>0</td>\n",
       "      <td>0</td>\n",
       "      <td>1</td>\n",
       "      <td>1</td>\n",
       "    </tr>\n",
       "    <tr>\n",
       "      <th>9</th>\n",
       "      <td>3</td>\n",
       "      <td>1149.219971</td>\n",
       "      <td>NaN</td>\n",
       "      <td>NaN</td>\n",
       "      <td>NaN</td>\n",
       "      <td>NaN</td>\n",
       "      <td>NaN</td>\n",
       "      <td>NaN</td>\n",
       "      <td>NaN</td>\n",
       "      <td>NaN</td>\n",
       "      <td>...</td>\n",
       "      <td>1</td>\n",
       "      <td>1</td>\n",
       "      <td>1</td>\n",
       "      <td>1</td>\n",
       "      <td>1</td>\n",
       "      <td>0</td>\n",
       "      <td>0</td>\n",
       "      <td>0</td>\n",
       "      <td>1</td>\n",
       "      <td>1</td>\n",
       "    </tr>\n",
       "    <tr>\n",
       "      <th>11</th>\n",
       "      <td>4</td>\n",
       "      <td>602.669983</td>\n",
       "      <td>NaN</td>\n",
       "      <td>NaN</td>\n",
       "      <td>NaN</td>\n",
       "      <td>NaN</td>\n",
       "      <td>NaN</td>\n",
       "      <td>NaN</td>\n",
       "      <td>NaN</td>\n",
       "      <td>NaN</td>\n",
       "      <td>...</td>\n",
       "      <td>1</td>\n",
       "      <td>1</td>\n",
       "      <td>1</td>\n",
       "      <td>1</td>\n",
       "      <td>1</td>\n",
       "      <td>1</td>\n",
       "      <td>0</td>\n",
       "      <td>0</td>\n",
       "      <td>1</td>\n",
       "      <td>1</td>\n",
       "    </tr>\n",
       "  </tbody>\n",
       "</table>\n",
       "<p>5 rows × 70 columns</p>\n",
       "</div>"
      ],
      "text/plain": [
       "    index  L1.0_V2_MAX  L2.0_V2_MAX  L3.1_V2_MAX  L3.2_V2_MAX  L3.3_V2_MAX  \\\n",
       "Id                                                                           \n",
       "4       0    82.269997          NaN          NaN          NaN          NaN   \n",
       "6       1          NaN  1313.150024          NaN          NaN          NaN   \n",
       "7       2  1618.729980          NaN          NaN          NaN          NaN   \n",
       "9       3  1149.219971          NaN          NaN          NaN          NaN   \n",
       "11      4   602.669983          NaN          NaN          NaN          NaN   \n",
       "\n",
       "    L4.1_V2_MAX  L4.0_V2_MAX  L4.2_V2_MAX  L4.3_V2_MAX        ...         \\\n",
       "Id                                                            ...          \n",
       "4           NaN          NaN          NaN          NaN        ...          \n",
       "6           NaN          NaN          NaN          NaN        ...          \n",
       "7           NaN          NaN          NaN          NaN        ...          \n",
       "9           NaN          NaN          NaN          NaN        ...          \n",
       "11          NaN          NaN          NaN          NaN        ...          \n",
       "\n",
       "    sameL4.3_V2_next  sameL4.3_V2_prev  sameL4.4_V2_next  sameL4.4_V2_prev  \\\n",
       "Id                                                                           \n",
       "4                  1                 1                 1                 1   \n",
       "6                  1                 1                 1                 1   \n",
       "7                  1                 1                 1                 1   \n",
       "9                  1                 1                 1                 1   \n",
       "11                 1                 1                 1                 1   \n",
       "\n",
       "    sameL5.0_V2_next  sameL5.0_V2_prev  sameL6.0_V2_next  sameL6.0_V2_prev  \\\n",
       "Id                                                                           \n",
       "4                  0                 0                 0                 0   \n",
       "6                  1                 0                 0                 0   \n",
       "7                  0                 1                 0                 0   \n",
       "9                  1                 0                 0                 0   \n",
       "11                 1                 1                 0                 0   \n",
       "\n",
       "    sameL7.0_V2_next  sameL7.0_V2_prev  \n",
       "Id                                      \n",
       "4                  1                 1  \n",
       "6                  1                 1  \n",
       "7                  1                 1  \n",
       "9                  1                 1  \n",
       "11                 1                 1  \n",
       "\n",
       "[5 rows x 70 columns]"
      ]
     },
     "execution_count": 25,
     "metadata": {},
     "output_type": "execute_result"
    }
   ],
   "source": [
    "df.head()"
   ]
  },
  {
   "cell_type": "code",
   "execution_count": 13,
   "metadata": {
    "collapsed": true
   },
   "outputs": [],
   "source": [
    "df[feat_cols].to_csv(os.path.join(const.DATA_PATH, 'feat_set_jayjay_same_L_{}.csv'.format(use_sets)), index_label='ID')"
   ]
  },
  {
   "cell_type": "markdown",
   "metadata": {},
   "source": [
    "## Calculate features based on base line definition"
   ]
  },
  {
   "cell_type": "code",
   "execution_count": 32,
   "metadata": {
    "collapsed": true
   },
   "outputs": [],
   "source": [
    "# First get max per line for all train and test samples\n",
    "df = pd.DataFrame(columns=['L0max','L1max','L2max','L3max'], index=ids.Id)\n",
    "for l in range(4):\n",
    "    col_date = [int(i) for i in lut[lut['line']==l].col_dat.values if not np.isnan(i)]\n",
    "\n",
    "    df['L{}max'.format(l)] = dat_data[:, col_date].max(1).todense().A1\n",
    "    \n",
    "    df['L{}max'.format(l)].replace(0, np.nan, inplace=True)\n",
    "    df['L{}max'.format(l)].round(2)\n",
    "\n",
    "# Get row index as column to check sorting afterwards\n",
    "df.reset_index(inplace=True)\n",
    "df.reset_index(inplace=True)\n",
    "\n",
    "# Sort by ID\n",
    "df.sort_values(['Id'], inplace=True)\n",
    "\n",
    "for col in df.columns:\n",
    "    df[col + '_prev'] = df[col].shift(1)\n",
    "    df[col + '_next'] = df[col].shift(-1)\n",
    "\n",
    "df.set_index('Id', inplace=True)"
   ]
  },
  {
   "cell_type": "code",
   "execution_count": 33,
   "metadata": {
    "collapsed": true
   },
   "outputs": [],
   "source": [
    "feat_cols = []\n",
    "\n",
    "for l in range(4):\n",
    "    df['sameL{}_next'.format(l)] = 2 * (df['L{}max'.format(l)]==df['L{}max_next'.format(l)]).astype(int) + \\\n",
    "                              1 * ((df['L{}max'.format(l)].isnull()) & (df['L{}max_next'.format(l)].isnull())).astype(int)\n",
    "        \n",
    "    df['sameL{}_prev'.format(l)] = 2 * (df['L{}max'.format(l)]==df['L{}max_prev'.format(l)]).astype(int) + \\\n",
    "                              1 * ((df['L{}max'.format(l)].isnull()) & (df['L{}max_prev'.format(l)].isnull())).astype(int)\n",
    "        \n",
    "    feat_cols += ['sameL{}_prev'.format(l), 'sameL{}_next'.format(l)]"
   ]
  },
  {
   "cell_type": "code",
   "execution_count": 34,
   "metadata": {
    "collapsed": true
   },
   "outputs": [],
   "source": [
    "df.sort_values('index', inplace=True)"
   ]
  },
  {
   "cell_type": "code",
   "execution_count": 35,
   "metadata": {
    "collapsed": false
   },
   "outputs": [
    {
     "data": {
      "text/plain": [
       "['sameL0_prev',\n",
       " 'sameL0_next',\n",
       " 'sameL1_prev',\n",
       " 'sameL1_next',\n",
       " 'sameL2_prev',\n",
       " 'sameL2_next',\n",
       " 'sameL3_prev',\n",
       " 'sameL3_next']"
      ]
     },
     "execution_count": 35,
     "metadata": {},
     "output_type": "execute_result"
    }
   ],
   "source": [
    "feat_cols"
   ]
  },
  {
   "cell_type": "code",
   "execution_count": 17,
   "metadata": {
    "collapsed": true
   },
   "outputs": [],
   "source": [
    "df[feat_cols].to_csv(os.path.join(const.DATA_PATH, 'feat_set_jayjay_same_L_new_{}.csv'.format(use_sets)), index_label='ID')\n"
   ]
  },
  {
   "cell_type": "markdown",
   "metadata": {},
   "source": [
    "## Calculate features based on new line definition"
   ]
  },
  {
   "cell_type": "code",
   "execution_count": 18,
   "metadata": {
    "collapsed": false
   },
   "outputs": [
    {
     "name": "stdout",
     "output_type": "stream",
     "text": [
      "[ 1.   2.   3.1  3.2  3.3  4.1  4.   4.2  4.3  4.4  5.   6.   7. ]\n"
     ]
    }
   ],
   "source": [
    "line_V2s = lut['line_V2'].unique()\n",
    "print line_V2s"
   ]
  },
  {
   "cell_type": "code",
   "execution_count": 19,
   "metadata": {
    "collapsed": true
   },
   "outputs": [],
   "source": [
    "# First get max per line for all train and test samples\n",
    "df = pd.DataFrame(columns=['L{}_V2_MAX'.format(x) for x in line_V2s], index=ids.Id)\n",
    "for l in line_V2s:\n",
    "    col_date = [int(i) for i in lut[lut['line_V2']==l].col_dat.values if not np.isnan(i)]\n",
    "\n",
    "    df['L{}_V2_MAX'.format(l)] = dat_data[:, col_date].max(1).todense().A1\n",
    "    \n",
    "    df['L{}_V2_MAX'.format(l)].replace(0, np.nan, inplace=True)\n",
    "\n",
    "# To go row index to check sorting afterwards\n",
    "df.reset_index(inplace=True)\n",
    "df.reset_index(inplace=True)\n",
    "\n",
    "# Sort by ID\n",
    "df.sort_values(['Id'], inplace=True)\n",
    "\n",
    "for col in df.columns:\n",
    "    df[col + '_prev'] = df[col].shift(1)\n",
    "    df[col + '_next'] = df[col].shift(-1)\n",
    "\n",
    "df.set_index('Id', inplace=True)"
   ]
  },
  {
   "cell_type": "code",
   "execution_count": 20,
   "metadata": {
    "collapsed": true
   },
   "outputs": [],
   "source": [
    "feat_cols = []\n",
    "\n",
    "for l in line_V2s:\n",
    "    df['sameL{}_V2_next'.format(l)] = 2 * (df['L{}_V2_MAX'.format(l)]==df['L{}_V2_MAX_next'.format(l)]).astype(int) + \\\n",
    "                              1 * ((df['L{}_V2_MAX'.format(l)].isnull()) & (df['L{}_V2_MAX_next'.format(l)].isnull())).astype(int)\n",
    "        \n",
    "    df['sameL{}_V2_prev'.format(l)] = 2 * (df['L{}_V2_MAX'.format(l)]==df['L{}_V2_MAX_prev'.format(l)]).astype(int) + \\\n",
    "                              1 * ((df['L{}_V2_MAX'.format(l)].isnull()) & (df['L{}_V2_MAX_prev'.format(l)].isnull())).astype(int)\n",
    "        \n",
    "    feat_cols += ['sameL{}_V2_prev'.format(l), 'sameL{}_V2_next'.format(l)]"
   ]
  },
  {
   "cell_type": "code",
   "execution_count": 21,
   "metadata": {
    "collapsed": true
   },
   "outputs": [],
   "source": [
    "df.sort_values('index', inplace=True)"
   ]
  },
  {
   "cell_type": "code",
   "execution_count": 22,
   "metadata": {
    "collapsed": true
   },
   "outputs": [],
   "source": [
    "df[feat_cols].to_csv(os.path.join(const.DATA_PATH, 'feat_set_V2_same_L_new_{}.csv'.format(use_sets)), index_label='ID')"
   ]
  }
 ],
 "metadata": {
  "kernelspec": {
   "display_name": "Python 2",
   "language": "python",
   "name": "python2"
  },
  "language_info": {
   "codemirror_mode": {
    "name": "ipython",
    "version": 2
   },
   "file_extension": ".py",
   "mimetype": "text/x-python",
   "name": "python",
   "nbconvert_exporter": "python",
   "pygments_lexer": "ipython2",
   "version": "2.7.11"
  }
 },
 "nbformat": 4,
 "nbformat_minor": 0
}
