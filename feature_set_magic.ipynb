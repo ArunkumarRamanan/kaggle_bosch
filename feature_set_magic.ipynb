{
 "cells": [
  {
   "cell_type": "code",
   "execution_count": 1,
   "metadata": {
    "collapsed": true
   },
   "outputs": [],
   "source": [
    "import os\n",
    "import re\n",
    "import pickle\n",
    "import time\n",
    "import datetime\n",
    "\n",
    "import numpy as np\n",
    "import pandas as pd\n",
    "\n",
    "import xgboost as xgb\n",
    "\n",
    "import seaborn as sns\n",
    "import matplotlib.pyplot as plt\n",
    "\n",
    "from scipy.sparse import csr_matrix, csc_matrix\n",
    "\n",
    "%matplotlib inline\n",
    "\n",
    "# Custom modules\n",
    "import const\n",
    "import func"
   ]
  },
  {
   "cell_type": "code",
   "execution_count": 2,
   "metadata": {
    "collapsed": false
   },
   "outputs": [
    {
     "data": {
      "text/plain": [
       "['train_numeric', 'train_categorical_to_num', 'train_date']"
      ]
     },
     "execution_count": 2,
     "metadata": {},
     "output_type": "execute_result"
    }
   ],
   "source": [
    "const.TRAIN_FILES"
   ]
  },
  {
   "cell_type": "code",
   "execution_count": 3,
   "metadata": {
    "collapsed": false
   },
   "outputs": [
    {
     "data": {
      "text/plain": [
       "['test_numeric', 'test_categorical_to_num', 'test_date']"
      ]
     },
     "execution_count": 3,
     "metadata": {},
     "output_type": "execute_result"
    }
   ],
   "source": [
    "const.TEST_FILES"
   ]
  },
  {
   "cell_type": "code",
   "execution_count": 4,
   "metadata": {
    "collapsed": false
   },
   "outputs": [
    {
     "name": "stdout",
     "output_type": "stream",
     "text": [
      "Returning <open file '/Volumes/My Book/kaggle_bosch/train_date.pkl', mode 'rb' at 0x1162d4300>.pkl\n",
      "Returning <open file '/Volumes/My Book/kaggle_bosch/test_date.pkl', mode 'rb' at 0x1162d4300>.pkl\n"
     ]
    }
   ],
   "source": [
    "# Load\n",
    "train_date = func.load_data_file(const.TRAIN_FILES[2])\n",
    "test_date = func.load_data_file(const.TEST_FILES[2])"
   ]
  },
  {
   "cell_type": "code",
   "execution_count": 5,
   "metadata": {
    "collapsed": true
   },
   "outputs": [],
   "source": [
    "y = func.read_last_column(os.path.join(const.BASE_PATH, const.TRAIN_FILES[0]+'.csv'))"
   ]
  },
  {
   "cell_type": "code",
   "execution_count": 6,
   "metadata": {
    "collapsed": false
   },
   "outputs": [
    {
     "data": {
      "text/html": [
       "<div>\n",
       "<table border=\"1\" class=\"dataframe\">\n",
       "  <thead>\n",
       "    <tr style=\"text-align: right;\">\n",
       "      <th></th>\n",
       "      <th>Response</th>\n",
       "    </tr>\n",
       "    <tr>\n",
       "      <th>Id</th>\n",
       "      <th></th>\n",
       "    </tr>\n",
       "  </thead>\n",
       "  <tbody>\n",
       "    <tr>\n",
       "      <th>4</th>\n",
       "      <td>0</td>\n",
       "    </tr>\n",
       "    <tr>\n",
       "      <th>6</th>\n",
       "      <td>0</td>\n",
       "    </tr>\n",
       "    <tr>\n",
       "      <th>7</th>\n",
       "      <td>0</td>\n",
       "    </tr>\n",
       "  </tbody>\n",
       "</table>\n",
       "</div>"
      ],
      "text/plain": [
       "    Response\n",
       "Id          \n",
       "4          0\n",
       "6          0\n",
       "7          0"
      ]
     },
     "execution_count": 6,
     "metadata": {},
     "output_type": "execute_result"
    }
   ],
   "source": [
    "y.head(3)"
   ]
  },
  {
   "cell_type": "code",
   "execution_count": 7,
   "metadata": {
    "collapsed": false
   },
   "outputs": [],
   "source": [
    "tmin_tr = train_date['data']['features'].data[train_date['data']['features'].indptr[:-1]]\n",
    "tmin_tr[np.diff(train_date['data']['features'].indptr)==0]=np.nan\n",
    "tmin_te = test_date['data']['features'].data[test_date['data']['features'].indptr[:-1]]\n",
    "tmin_te[np.diff(test_date['data']['features'].indptr)==0]=np.nan\n",
    "\n",
    "nmin_tr = train_date['data']['features'].indices[train_date['data']['features'].indptr[:-1]]\n",
    "#nmin_tr[np.diff(train_date['data']['features'].indptr)==0]=np.nan\n",
    "nmin_te = test_date['data']['features'].indices[test_date['data']['features'].indptr[:-1]]\n",
    "#nmin_te[np.diff(test_date['data']['features'].indptr)==0]=np.nan"
   ]
  },
  {
   "cell_type": "code",
   "execution_count": 8,
   "metadata": {
    "collapsed": false
   },
   "outputs": [],
   "source": [
    "ids = pd.concat([train_date['data']['ids'], test_date['data']['ids']])\n",
    "ids['start_time'] = np.concatenate([tmin_tr, tmin_te])\n",
    "ids['start_time'] = ids['start_time'].astype(float).round(2)\n",
    "ids['start_station'] = np.concatenate([nmin_tr, nmin_te])\n",
    "#ids['start_station'] = ids['start_station'].astype(float).round(2)\n",
    "ids = ids.merge(y.reset_index(), how='left')"
   ]
  },
  {
   "cell_type": "code",
   "execution_count": 9,
   "metadata": {
    "collapsed": false
   },
   "outputs": [],
   "source": [
    "ntrain = train_date['data']['ids'].shape[0]\n",
    "train_test = ids.reset_index(drop=True).reset_index(drop=False)"
   ]
  },
  {
   "cell_type": "code",
   "execution_count": 10,
   "metadata": {
    "collapsed": false
   },
   "outputs": [],
   "source": [
    "# Train/test\n",
    "train_test['f1'] = train_test['Id'].diff().fillna(0).astype(int)\n",
    "train_test['f2'] = train_test['Id'].iloc[::-1].diff().fillna(0).astype(int)"
   ]
  },
  {
   "cell_type": "code",
   "execution_count": 11,
   "metadata": {
    "collapsed": false
   },
   "outputs": [],
   "source": [
    "train_test = train_test.sort_values(by=['start_station','start_time', 'Id'], ascending=True)\n",
    "train_test['f3'] = train_test['Id'].diff().fillna(0).astype(int)\n",
    "train_test['f4'] = train_test['Id'].iloc[::-1].diff().fillna(0).astype(int)"
   ]
  },
  {
   "cell_type": "code",
   "execution_count": 14,
   "metadata": {
    "collapsed": false
   },
   "outputs": [
    {
     "data": {
      "text/html": [
       "<div>\n",
       "<table border=\"1\" class=\"dataframe\">\n",
       "  <thead>\n",
       "    <tr style=\"text-align: right;\">\n",
       "      <th></th>\n",
       "      <th>index</th>\n",
       "      <th>Id</th>\n",
       "      <th>start_time</th>\n",
       "      <th>start_station</th>\n",
       "      <th>Response</th>\n",
       "      <th>f1</th>\n",
       "      <th>f2</th>\n",
       "      <th>f3</th>\n",
       "      <th>f4</th>\n",
       "    </tr>\n",
       "  </thead>\n",
       "  <tbody>\n",
       "    <tr>\n",
       "      <th>264308</th>\n",
       "      <td>264308</td>\n",
       "      <td>528757</td>\n",
       "      <td>0.73</td>\n",
       "      <td>0</td>\n",
       "      <td>1.0</td>\n",
       "      <td>1</td>\n",
       "      <td>-3</td>\n",
       "      <td>-1684594</td>\n",
       "      <td>-1</td>\n",
       "    </tr>\n",
       "    <tr>\n",
       "      <th>1132753</th>\n",
       "      <td>1132753</td>\n",
       "      <td>2265661</td>\n",
       "      <td>0.81</td>\n",
       "      <td>0</td>\n",
       "      <td>1.0</td>\n",
       "      <td>2</td>\n",
       "      <td>-2</td>\n",
       "      <td>5025</td>\n",
       "      <td>-1</td>\n",
       "    </tr>\n",
       "    <tr>\n",
       "      <th>1159681</th>\n",
       "      <td>1159681</td>\n",
       "      <td>2319366</td>\n",
       "      <td>0.93</td>\n",
       "      <td>0</td>\n",
       "      <td>1.0</td>\n",
       "      <td>3</td>\n",
       "      <td>-1</td>\n",
       "      <td>143019</td>\n",
       "      <td>-1</td>\n",
       "    </tr>\n",
       "    <tr>\n",
       "      <th>1154143</th>\n",
       "      <td>1154143</td>\n",
       "      <td>2308397</td>\n",
       "      <td>0.94</td>\n",
       "      <td>0</td>\n",
       "      <td>1.0</td>\n",
       "      <td>1</td>\n",
       "      <td>-4</td>\n",
       "      <td>717</td>\n",
       "      <td>-1</td>\n",
       "    </tr>\n",
       "    <tr>\n",
       "      <th>446240</th>\n",
       "      <td>446240</td>\n",
       "      <td>893315</td>\n",
       "      <td>1.21</td>\n",
       "      <td>0</td>\n",
       "      <td>1.0</td>\n",
       "      <td>1</td>\n",
       "      <td>-2</td>\n",
       "      <td>1892</td>\n",
       "      <td>-1</td>\n",
       "    </tr>\n",
       "  </tbody>\n",
       "</table>\n",
       "</div>"
      ],
      "text/plain": [
       "           index       Id  start_time  start_station  Response  f1  f2  \\\n",
       "264308    264308   528757        0.73              0       1.0   1  -3   \n",
       "1132753  1132753  2265661        0.81              0       1.0   2  -2   \n",
       "1159681  1159681  2319366        0.93              0       1.0   3  -1   \n",
       "1154143  1154143  2308397        0.94              0       1.0   1  -4   \n",
       "446240    446240   893315        1.21              0       1.0   1  -2   \n",
       "\n",
       "              f3  f4  \n",
       "264308  -1684594  -1  \n",
       "1132753     5025  -1  \n",
       "1159681   143019  -1  \n",
       "1154143      717  -1  \n",
       "446240      1892  -1  "
      ]
     },
     "execution_count": 14,
     "metadata": {},
     "output_type": "execute_result"
    }
   ],
   "source": [
    "train_test.head()"
   ]
  },
  {
   "cell_type": "code",
   "execution_count": 17,
   "metadata": {
    "collapsed": false
   },
   "outputs": [
    {
     "data": {
      "text/plain": [
       "-1          5264\n",
       "-2514          3\n",
       "-2802          3\n",
       "-2642          3\n",
       "-3024          2\n",
       "-5469          2\n",
       "-4530          2\n",
       "-4599          2\n",
       "-5132          2\n",
       "-2859          2\n",
       "-368           2\n",
       "-3718          2\n",
       "-3722          2\n",
       "-4196          2\n",
       "-4333          2\n",
       "-5136          2\n",
       "-3004          2\n",
       "-2256          2\n",
       "-7413          2\n",
       "-3847          2\n",
       "-1800          2\n",
       "-3584          2\n",
       "-4417          2\n",
       "-2665          2\n",
       "-2741          2\n",
       "-63856         2\n",
       "-4391          2\n",
       "-3318          2\n",
       "-2334          2\n",
       "-1245          2\n",
       "            ... \n",
       "-3285          1\n",
       "-50398         1\n",
       "-1258          1\n",
       "-7872          1\n",
       "-1274          1\n",
       "-9474          1\n",
       "-3185          1\n",
       "-5232          1\n",
       "-1130          1\n",
       "-60521         1\n",
       "-3081          1\n",
       "-392203        1\n",
       "-62300         1\n",
       "-9238          1\n",
       "-70680         1\n",
       "-15387         1\n",
       "-9250          1\n",
       "-3109          1\n",
       " 2313255       1\n",
       "-70716         1\n",
       "-586816        1\n",
       "-3137          1\n",
       "-1090          1\n",
       "-1094          1\n",
       "-54344         1\n",
       "-11337         1\n",
       "-58442         1\n",
       "-5200          1\n",
       "-5212          1\n",
       "-122884        1\n",
       "Name: f4, dtype: int64"
      ]
     },
     "execution_count": 17,
     "metadata": {},
     "output_type": "execute_result"
    }
   ],
   "source": [
    "train_test['f4'][train_test.Response==1].value_counts()"
   ]
  },
  {
   "cell_type": "code",
   "execution_count": 15,
   "metadata": {
    "collapsed": false
   },
   "outputs": [],
   "source": [
    "train_test.to_csv(os.path.join(const.DATA_PATH, 'feat_set_leaks.csv'), index=False)"
   ]
  },
  {
   "cell_type": "code",
   "execution_count": 12,
   "metadata": {
    "collapsed": false
   },
   "outputs": [
    {
     "name": "stdout",
     "output_type": "stream",
     "text": [
      "5264\n",
      "65795\n"
     ]
    }
   ],
   "source": [
    "print train_test[(train_test.Response==1) & (train_test.f4==-1)].Id.count()\n",
    "print train_test[(train_test.Response==0) & (train_test.f4==-1)].Id.count()"
   ]
  },
  {
   "cell_type": "code",
   "execution_count": 13,
   "metadata": {
    "collapsed": false
   },
   "outputs": [],
   "source": [
    "train_test = train_test.sort_values(by=['index']).drop(['index'], axis=1)\n",
    "train = train_test.iloc[:ntrain, :]"
   ]
  },
  {
   "cell_type": "code",
   "execution_count": 14,
   "metadata": {
    "collapsed": false
   },
   "outputs": [
    {
     "data": {
      "text/plain": [
       "<matplotlib.text.Text at 0x203b4e850>"
      ]
     },
     "execution_count": 14,
     "metadata": {},
     "output_type": "execute_result"
    },
    {
     "data": {
      "image/png": "[encoded data removed]",
      "text/plain": [
       "<matplotlib.figure.Figure at 0x203bba610>"
      ]
     },
     "metadata": {},
     "output_type": "display_data"
    }
   ],
   "source": [
    "r=[-15, 1]\n",
    "#r=[0,15]\n",
    "#r=[0,1e4]\n",
    "r=[-1e4,0]\n",
    "f, (ax1, ax2, ax3) = plt.subplots(1,3,figsize=(16,6))\n",
    "train_test[train_test.Response>=0].f4.hist(bins=100, ax=ax1)\n",
    "train_test[train_test.Response==0].f4.hist(bins=100, ax=ax2, range=r)\n",
    "train_test[train_test.Response==1].f4.hist(bins=100, ax=ax3, range=r)\n",
    "\n",
    "ax1.set_title('Histogram f4 R=0 + R=1')\n",
    "ax2.set_title('Histogram f4 R=0')\n",
    "ax3.set_title('Histogram f4 R=1')"
   ]
  },
  {
   "cell_type": "code",
   "execution_count": 15,
   "metadata": {
    "collapsed": false
   },
   "outputs": [
    {
     "data": {
      "text/html": [
       "<div>\n",
       "<table border=\"1\" class=\"dataframe\">\n",
       "  <thead>\n",
       "    <tr style=\"text-align: right;\">\n",
       "      <th></th>\n",
       "      <th>f1</th>\n",
       "      <th>f2</th>\n",
       "      <th>f3</th>\n",
       "      <th>f4</th>\n",
       "    </tr>\n",
       "  </thead>\n",
       "  <tbody>\n",
       "    <tr>\n",
       "      <th>f1</th>\n",
       "      <td>1.000000e+00</td>\n",
       "      <td>1.293836e-09</td>\n",
       "      <td>0.004663</td>\n",
       "      <td>0.000007</td>\n",
       "    </tr>\n",
       "    <tr>\n",
       "      <th>f2</th>\n",
       "      <td>1.293836e-09</td>\n",
       "      <td>1.000000e+00</td>\n",
       "      <td>0.000008</td>\n",
       "      <td>0.004746</td>\n",
       "    </tr>\n",
       "    <tr>\n",
       "      <th>f3</th>\n",
       "      <td>4.663351e-03</td>\n",
       "      <td>7.999361e-06</td>\n",
       "      <td>1.000000</td>\n",
       "      <td>0.076520</td>\n",
       "    </tr>\n",
       "    <tr>\n",
       "      <th>f4</th>\n",
       "      <td>7.136053e-06</td>\n",
       "      <td>4.746437e-03</td>\n",
       "      <td>0.076520</td>\n",
       "      <td>1.000000</td>\n",
       "    </tr>\n",
       "  </tbody>\n",
       "</table>\n",
       "</div>"
      ],
      "text/plain": [
       "              f1            f2        f3        f4\n",
       "f1  1.000000e+00  1.293836e-09  0.004663  0.000007\n",
       "f2  1.293836e-09  1.000000e+00  0.000008  0.004746\n",
       "f3  4.663351e-03  7.999361e-06  1.000000  0.076520\n",
       "f4  7.136053e-06  4.746437e-03  0.076520  1.000000"
      ]
     },
     "execution_count": 15,
     "metadata": {},
     "output_type": "execute_result"
    }
   ],
   "source": [
    "train_test[['f1','f2','f3','f4']].corr()"
   ]
  },
  {
   "cell_type": "code",
   "execution_count": 16,
   "metadata": {
    "collapsed": false
   },
   "outputs": [
    {
     "data": {
      "text/plain": [
       "['Id', 'start_time', 'start_station', 'Response', 'f1', 'f2', 'f3', 'f4']"
      ]
     },
     "execution_count": 16,
     "metadata": {},
     "output_type": "execute_result"
    }
   ],
   "source": [
    "list(train.columns)"
   ]
  },
  {
   "cell_type": "code",
   "execution_count": 28,
   "metadata": {
    "collapsed": false
   },
   "outputs": [],
   "source": [
    "features = np.setdiff1d(list(train.columns), ['Response', 'Id','start_station'])"
   ]
  },
  {
   "cell_type": "code",
   "execution_count": 29,
   "metadata": {
    "collapsed": false
   },
   "outputs": [
    {
     "data": {
      "text/plain": [
       "array(['f1', 'f2', 'f3', 'f4', 'start_time'], \n",
       "      dtype='|S13')"
      ]
     },
     "execution_count": 29,
     "metadata": {},
     "output_type": "execute_result"
    }
   ],
   "source": [
    "features"
   ]
  },
  {
   "cell_type": "code",
   "execution_count": null,
   "metadata": {
    "collapsed": true
   },
   "outputs": [],
   "source": []
  },
  {
   "cell_type": "code",
   "execution_count": 30,
   "metadata": {
    "collapsed": false
   },
   "outputs": [
    {
     "name": "stdout",
     "output_type": "stream",
     "text": [
      "train: (1183747, 8)\n",
      "[0]\ttrain-auc:0.829911+0.104271\ttest-auc:0.826462+0.107041\n",
      "[1]\ttrain-auc:0.891711+0.00150777\ttest-auc:0.888985+0.00263146\n",
      "[2]\ttrain-auc:0.892755+0.00138299\ttest-auc:0.889887+0.0028623\n",
      "[3]\ttrain-auc:0.893497+0.00187417\ttest-auc:0.889969+0.00257306\n",
      "[4]\ttrain-auc:0.894714+0.00214455\ttest-auc:0.890845+0.00199651\n",
      "CV-Mean: 0.89084525+0.00199651388362\n"
     ]
    }
   ],
   "source": [
    "y = train.Response.ravel()\n",
    "X_train = np.array(train[features])\n",
    "\n",
    "print('train: {0}'.format(train.shape))\n",
    "prior = np.sum(y) / (1.*len(y))\n",
    "\n",
    "xgb_params = {\n",
    "    'seed': 0,\n",
    "    'colsample_bytree': 0.7,\n",
    "    'silent': 1,\n",
    "    'subsample': 0.7,\n",
    "    'learning_rate': 0.1,\n",
    "    'objective': 'binary:logistic',\n",
    "    'max_depth': 4,\n",
    "    'num_parallel_tree': 1,\n",
    "    'min_child_weight': 2,\n",
    "    'eval_metric': 'auc',\n",
    "    'base_score': prior\n",
    "}\n",
    "\n",
    "\n",
    "dtrain = xgb.DMatrix(X_train, label=y)\n",
    "res = xgb.cv(xgb_params, dtrain, num_boost_round=10, nfold=4, seed=0, stratified=True,\n",
    "             early_stopping_rounds=1, verbose_eval=1, show_stdv=True)\n",
    "\n",
    "cv_mean = res.iloc[-1, 0]\n",
    "cv_std = res.iloc[-1, 1]\n",
    "\n",
    "print('CV-Mean: {0}+{1}'.format(cv_mean, cv_std))"
   ]
  },
  {
   "cell_type": "code",
   "execution_count": 20,
   "metadata": {
    "collapsed": true
   },
   "outputs": [],
   "source": [
    "# Without start station: 0.89008475\n",
    "# With start station: 0.890845\n",
    "# Without f1: 0.88678875\n",
    "# Without f2: 0.88699775\n",
    "# Without f3: 0.88875625\n",
    "# Without f4: 0.65140425"
   ]
  },
  {
   "cell_type": "code",
   "execution_count": 65,
   "metadata": {
    "collapsed": false
   },
   "outputs": [],
   "source": [
    "def callback_test(x):\n",
    "    print x[0].get_score()\n",
    "    \n",
    "    with open(os.path.join(const.DATA_PATH,'callback_fi_{}.log'.format(x[2])), 'w') as f:\n",
    "        f.write(str(x[0].get_score()))\n",
    "    with open(os.path.join(const.DATA_PATH,'callback__eval_{}.log'.format(x[2])), 'w') as f:\n",
    "        f.write(str(x[6]))\n",
    "    \n",
    "    print \n",
    "    print('Joost')"
   ]
  },
  {
   "cell_type": "code",
   "execution_count": 66,
   "metadata": {
    "collapsed": false
   },
   "outputs": [
    {
     "name": "stdout",
     "output_type": "stream",
     "text": [
      "train: (1183747, 8)\n",
      "{'f1': 1, 'f2': 7, 'f3': 5}\n",
      "\n",
      "Joost\n",
      "[0]\ttrain-auc:0.863865\n",
      "Will train until train-auc hasn't improved in 20 rounds.\n",
      "{'f1': 1, 'f2': 7, 'f3': 8, 'f4': 11}\n",
      "\n",
      "Joost\n",
      "[1]\ttrain-auc:0.892687\n",
      "{'f1': 1, 'f2': 11, 'f3': 10, 'f4': 19}\n",
      "\n",
      "Joost\n",
      "[2]\ttrain-auc:0.894366\n",
      "{'f1': 1, 'f2': 16, 'f3': 10, 'f4': 29}\n",
      "\n",
      "Joost\n",
      "[3]\ttrain-auc:0.895025\n",
      "{'f1': 1, 'f2': 16, 'f3': 14, 'f4': 39}\n",
      "\n",
      "Joost\n",
      "[4]\ttrain-auc:0.896359\n",
      "{'f0': 4, 'f1': 4, 'f2': 16, 'f3': 19, 'f4': 39}\n",
      "\n",
      "Joost\n",
      "[5]\ttrain-auc:0.896628\n",
      "{'f0': 5, 'f1': 4, 'f2': 16, 'f3': 22, 'f4': 50}\n",
      "\n",
      "Joost\n",
      "[6]\ttrain-auc:0.897318\n",
      "{'f0': 5, 'f1': 4, 'f2': 19, 'f3': 22, 'f4': 61}\n",
      "\n",
      "Joost\n",
      "[7]\ttrain-auc:0.897101\n",
      "{'f0': 5, 'f1': 4, 'f2': 19, 'f3': 22, 'f4': 75}\n",
      "\n",
      "Joost\n",
      "[8]\ttrain-auc:0.897247\n",
      "{'f0': 8, 'f1': 9, 'f2': 19, 'f3': 29, 'f4': 75}\n",
      "\n",
      "Joost\n",
      "[9]\ttrain-auc:0.897679\n"
     ]
    }
   ],
   "source": [
    "y = train.Response.ravel()\n",
    "X_train = np.array(train[features])\n",
    "\n",
    "print('train: {0}'.format(train.shape))\n",
    "prior = np.sum(y) / (1.*len(y))\n",
    "\n",
    "xgb_params = {\n",
    "    'seed': 0,\n",
    "    'colsample_bytree': 0.7,\n",
    "    'silent': 1,\n",
    "    'subsample': 0.7,\n",
    "    'learning_rate': 0.1,\n",
    "    'objective': 'binary:logistic',\n",
    "    'max_depth': 4,\n",
    "    'num_parallel_tree': 1,\n",
    "    'min_child_weight': 2,\n",
    "    'eval_metric': 'auc',\n",
    "    'base_score': prior,\n",
    "    'num_round': 10,\n",
    "    'seed': 123,\n",
    "    'early_stopping': 20\n",
    "}\n",
    "\n",
    "\n",
    "dtrain = xgb.DMatrix(X_train, label=y)\n",
    "\n",
    "watchlist = [(dtrain,'train')]\n",
    "\n",
    "eval_result = {}\n",
    "\n",
    "bst = xgb.train(xgb_params, \n",
    "            dtrain, \n",
    "            num_boost_round=xgb_params['num_round'], \n",
    "            evals=watchlist,\n",
    "            evals_result=eval_result,\n",
    "            early_stopping_rounds=xgb_params['early_stopping'],\n",
    "            verbose_eval=1,\n",
    "            callbacks=[callback_test])"
   ]
  },
  {
   "cell_type": "code",
   "execution_count": 32,
   "metadata": {
    "collapsed": false
   },
   "outputs": [
    {
     "data": {
      "text/plain": [
       "{'train': {'auc': [0.863865,\n",
       "   0.892687,\n",
       "   0.894366,\n",
       "   0.895025,\n",
       "   0.896359,\n",
       "   0.896628,\n",
       "   0.897318,\n",
       "   0.897101,\n",
       "   0.897247,\n",
       "   0.897679]}}"
      ]
     },
     "execution_count": 32,
     "metadata": {},
     "output_type": "execute_result"
    }
   ],
   "source": [
    "eval_result"
   ]
  },
  {
   "cell_type": "code",
   "execution_count": null,
   "metadata": {
    "collapsed": true
   },
   "outputs": [],
   "source": []
  }
 ],
 "metadata": {
  "kernelspec": {
   "display_name": "Python 2",
   "language": "python",
   "name": "python2"
  },
  "language_info": {
   "codemirror_mode": {
    "name": "ipython",
    "version": 2
   },
   "file_extension": ".py",
   "mimetype": "text/x-python",
   "name": "python",
   "nbconvert_exporter": "python",
   "pygments_lexer": "ipython2",
   "version": "2.7.11"
  }
 },
 "nbformat": 4,
 "nbformat_minor": 0
}
