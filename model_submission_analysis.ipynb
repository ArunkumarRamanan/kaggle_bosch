{
 "cells": [
  {
   "cell_type": "code",
   "execution_count": 1,
   "metadata": {
    "collapsed": true
   },
   "outputs": [],
   "source": [
    "import feather\n",
    "import os\n",
    "import re\n",
    "import pickle\n",
    "import time\n",
    "import datetime\n",
    "\n",
    "import numpy as np\n",
    "import pandas as pd\n",
    "\n",
    "from numba import jit\n",
    "\n",
    "from sklearn.metrics import roc_auc_score\n",
    "from sklearn.cross_validation import StratifiedKFold\n",
    "from sklearn.metrics import matthews_corrcoef\n",
    "\n",
    "import seaborn as sns\n",
    "import matplotlib.pyplot as plt\n",
    "\n",
    "from scipy.sparse import csr_matrix, hstack\n",
    "\n",
    "from ml_toolbox.xgboostmonitor_utils import *\n",
    "import ml_toolbox.xgboostmonitor_utils as xgbm\n",
    "\n",
    "%matplotlib inline\n",
    "\n",
    "import xgboost as xgb\n",
    "import subprocess\n",
    "\n",
    "# Custom modules\n",
    "import const\n",
    "import func"
   ]
  },
  {
   "cell_type": "markdown",
   "metadata": {},
   "source": [
    "## Create single set of features to compare on"
   ]
  },
  {
   "cell_type": "code",
   "execution_count": 2,
   "metadata": {
    "collapsed": true
   },
   "outputs": [],
   "source": [
    "df_out = pd.DataFrame()"
   ]
  },
  {
   "cell_type": "code",
   "execution_count": 3,
   "metadata": {
    "collapsed": true
   },
   "outputs": [],
   "source": [
    "id_tr = func.read_first_column(os.path.join(const.BASE_PATH, const.TRAIN_FILES[0]))"
   ]
  },
  {
   "cell_type": "code",
   "execution_count": 4,
   "metadata": {
    "collapsed": true
   },
   "outputs": [],
   "source": [
    "id_te = func.read_first_column(os.path.join(const.BASE_PATH, const.TEST_FILES[0]))"
   ]
  },
  {
   "cell_type": "code",
   "execution_count": 5,
   "metadata": {
    "collapsed": false
   },
   "outputs": [
    {
     "data": {
      "text/html": [
       "<div>\n",
       "<table border=\"1\" class=\"dataframe\">\n",
       "  <thead>\n",
       "    <tr style=\"text-align: right;\">\n",
       "      <th></th>\n",
       "      <th>S32</th>\n",
       "      <th>S36</th>\n",
       "    </tr>\n",
       "    <tr>\n",
       "      <th>ID</th>\n",
       "      <th></th>\n",
       "      <th></th>\n",
       "    </tr>\n",
       "  </thead>\n",
       "  <tbody>\n",
       "    <tr>\n",
       "      <th>4</th>\n",
       "      <td>NaN</td>\n",
       "      <td>NaN</td>\n",
       "    </tr>\n",
       "    <tr>\n",
       "      <th>6</th>\n",
       "      <td>NaN</td>\n",
       "      <td>NaN</td>\n",
       "    </tr>\n",
       "  </tbody>\n",
       "</table>\n",
       "</div>"
      ],
      "text/plain": [
       "    S32  S36\n",
       "ID          \n",
       "4   NaN  NaN\n",
       "6   NaN  NaN"
      ]
     },
     "execution_count": 5,
     "metadata": {},
     "output_type": "execute_result"
    }
   ],
   "source": [
    "# Load S32 info feat_set_destination_station_S32.csv\n",
    "destination_stations = pd.read_csv(os.path.join(const.DATA_PATH, \n",
    "                                                'feat_set_destination_station.csv'), \n",
    "                                   index_col='ID')\n",
    "\n",
    "            \n",
    "df_out['S32'] = destination_stations['32.0']\n",
    "df_out['S36'] = destination_stations['36.0']\n",
    "\n",
    "df_out.head(2)"
   ]
  },
  {
   "cell_type": "code",
   "execution_count": 6,
   "metadata": {
    "collapsed": false
   },
   "outputs": [
    {
     "data": {
      "text/html": [
       "<div>\n",
       "<table border=\"1\" class=\"dataframe\">\n",
       "  <thead>\n",
       "    <tr style=\"text-align: right;\">\n",
       "      <th></th>\n",
       "      <th>S32</th>\n",
       "      <th>S36</th>\n",
       "      <th>gf0</th>\n",
       "      <th>gf1</th>\n",
       "    </tr>\n",
       "    <tr>\n",
       "      <th>ID</th>\n",
       "      <th></th>\n",
       "      <th></th>\n",
       "      <th></th>\n",
       "      <th></th>\n",
       "    </tr>\n",
       "  </thead>\n",
       "  <tbody>\n",
       "    <tr>\n",
       "      <th>4</th>\n",
       "      <td>NaN</td>\n",
       "      <td>NaN</td>\n",
       "      <td>-1.0</td>\n",
       "      <td>-1.0</td>\n",
       "    </tr>\n",
       "    <tr>\n",
       "      <th>6</th>\n",
       "      <td>NaN</td>\n",
       "      <td>NaN</td>\n",
       "      <td>-1.0</td>\n",
       "      <td>-1.0</td>\n",
       "    </tr>\n",
       "  </tbody>\n",
       "</table>\n",
       "</div>"
      ],
      "text/plain": [
       "    S32  S36  gf0  gf1\n",
       "ID                    \n",
       "4   NaN  NaN -1.0 -1.0\n",
       "6   NaN  NaN -1.0 -1.0"
      ]
     },
     "execution_count": 6,
     "metadata": {},
     "output_type": "execute_result"
    }
   ],
   "source": [
    "df = pd.read_csv('data/feat_set_gf0_gf1_OHE.csv', index_col=0)\n",
    "df['gf0'] = df['gf0_-1']*-1 + df['gf0_0']*0 + df['gf0_1']*1\n",
    "df['gf1'] = df['gf1_-1']*-1 + df['gf1_0']*0 + df['gf1_1']*1\n",
    "\n",
    "df_out[['gf0','gf1']] = df[['gf0','gf1']]\n",
    "df_out.head(2)"
   ]
  },
  {
   "cell_type": "code",
   "execution_count": 7,
   "metadata": {
    "collapsed": false
   },
   "outputs": [
    {
     "data": {
      "text/html": [
       "<div>\n",
       "<table border=\"1\" class=\"dataframe\">\n",
       "  <thead>\n",
       "    <tr style=\"text-align: right;\">\n",
       "      <th></th>\n",
       "      <th>S32</th>\n",
       "      <th>S36</th>\n",
       "      <th>gf0</th>\n",
       "      <th>gf1</th>\n",
       "      <th>f1</th>\n",
       "      <th>f2</th>\n",
       "      <th>f3</th>\n",
       "      <th>f4</th>\n",
       "    </tr>\n",
       "    <tr>\n",
       "      <th>ID</th>\n",
       "      <th></th>\n",
       "      <th></th>\n",
       "      <th></th>\n",
       "      <th></th>\n",
       "      <th></th>\n",
       "      <th></th>\n",
       "      <th></th>\n",
       "      <th></th>\n",
       "    </tr>\n",
       "  </thead>\n",
       "  <tbody>\n",
       "    <tr>\n",
       "      <th>4</th>\n",
       "      <td>NaN</td>\n",
       "      <td>NaN</td>\n",
       "      <td>-1.0</td>\n",
       "      <td>-1.0</td>\n",
       "      <td>0</td>\n",
       "      <td>-2</td>\n",
       "      <td>-2314450</td>\n",
       "      <td>-224451</td>\n",
       "    </tr>\n",
       "    <tr>\n",
       "      <th>6</th>\n",
       "      <td>NaN</td>\n",
       "      <td>NaN</td>\n",
       "      <td>-1.0</td>\n",
       "      <td>-1.0</td>\n",
       "      <td>2</td>\n",
       "      <td>-1</td>\n",
       "      <td>-2284042</td>\n",
       "      <td>-67530</td>\n",
       "    </tr>\n",
       "    <tr>\n",
       "      <th>7</th>\n",
       "      <td>NaN</td>\n",
       "      <td>NaN</td>\n",
       "      <td>-1.0</td>\n",
       "      <td>-1.0</td>\n",
       "      <td>1</td>\n",
       "      <td>-2</td>\n",
       "      <td>-2313512</td>\n",
       "      <td>-26876</td>\n",
       "    </tr>\n",
       "  </tbody>\n",
       "</table>\n",
       "</div>"
      ],
      "text/plain": [
       "    S32  S36  gf0  gf1  f1  f2       f3      f4\n",
       "ID                                             \n",
       "4   NaN  NaN -1.0 -1.0   0  -2 -2314450 -224451\n",
       "6   NaN  NaN -1.0 -1.0   2  -1 -2284042  -67530\n",
       "7   NaN  NaN -1.0 -1.0   1  -2 -2313512  -26876"
      ]
     },
     "execution_count": 7,
     "metadata": {},
     "output_type": "execute_result"
    }
   ],
   "source": [
    "df2 = pd.read_csv(os.path.join(const.DATA_PATH, 'feat_set_leaks.csv'), index_col='Id')\n",
    "\n",
    "df_out[['f1','f2','f3','f4']] = df2[['f1','f2','f3','f4']]\n",
    "df_out.head(3)"
   ]
  },
  {
   "cell_type": "code",
   "execution_count": 9,
   "metadata": {
    "collapsed": false
   },
   "outputs": [
    {
     "data": {
      "text/html": [
       "<div>\n",
       "<table border=\"1\" class=\"dataframe\">\n",
       "  <thead>\n",
       "    <tr style=\"text-align: right;\">\n",
       "      <th></th>\n",
       "      <th>S32</th>\n",
       "      <th>S36</th>\n",
       "      <th>gf0</th>\n",
       "      <th>gf1</th>\n",
       "      <th>f1</th>\n",
       "      <th>f2</th>\n",
       "      <th>f3</th>\n",
       "      <th>f4</th>\n",
       "      <th>sameL0_prev</th>\n",
       "      <th>sameL0_next</th>\n",
       "      <th>sameL1_prev</th>\n",
       "      <th>sameL1_next</th>\n",
       "      <th>sameL2_prev</th>\n",
       "      <th>sameL2_next</th>\n",
       "      <th>sameL3_prev</th>\n",
       "      <th>sameL3_next</th>\n",
       "    </tr>\n",
       "    <tr>\n",
       "      <th>ID</th>\n",
       "      <th></th>\n",
       "      <th></th>\n",
       "      <th></th>\n",
       "      <th></th>\n",
       "      <th></th>\n",
       "      <th></th>\n",
       "      <th></th>\n",
       "      <th></th>\n",
       "      <th></th>\n",
       "      <th></th>\n",
       "      <th></th>\n",
       "      <th></th>\n",
       "      <th></th>\n",
       "      <th></th>\n",
       "      <th></th>\n",
       "      <th></th>\n",
       "    </tr>\n",
       "  </thead>\n",
       "  <tbody>\n",
       "    <tr>\n",
       "      <th>4</th>\n",
       "      <td>NaN</td>\n",
       "      <td>NaN</td>\n",
       "      <td>-1.0</td>\n",
       "      <td>-1.0</td>\n",
       "      <td>0</td>\n",
       "      <td>-2</td>\n",
       "      <td>-2314450</td>\n",
       "      <td>-224451</td>\n",
       "      <td>0</td>\n",
       "      <td>0</td>\n",
       "      <td>0</td>\n",
       "      <td>1</td>\n",
       "      <td>0</td>\n",
       "      <td>0</td>\n",
       "      <td>0</td>\n",
       "      <td>0</td>\n",
       "    </tr>\n",
       "    <tr>\n",
       "      <th>6</th>\n",
       "      <td>NaN</td>\n",
       "      <td>NaN</td>\n",
       "      <td>-1.0</td>\n",
       "      <td>-1.0</td>\n",
       "      <td>2</td>\n",
       "      <td>-1</td>\n",
       "      <td>-2284042</td>\n",
       "      <td>-67530</td>\n",
       "      <td>0</td>\n",
       "      <td>0</td>\n",
       "      <td>1</td>\n",
       "      <td>1</td>\n",
       "      <td>0</td>\n",
       "      <td>1</td>\n",
       "      <td>0</td>\n",
       "      <td>0</td>\n",
       "    </tr>\n",
       "    <tr>\n",
       "      <th>7</th>\n",
       "      <td>NaN</td>\n",
       "      <td>NaN</td>\n",
       "      <td>-1.0</td>\n",
       "      <td>-1.0</td>\n",
       "      <td>1</td>\n",
       "      <td>-2</td>\n",
       "      <td>-2313512</td>\n",
       "      <td>-26876</td>\n",
       "      <td>0</td>\n",
       "      <td>0</td>\n",
       "      <td>1</td>\n",
       "      <td>0</td>\n",
       "      <td>1</td>\n",
       "      <td>0</td>\n",
       "      <td>0</td>\n",
       "      <td>0</td>\n",
       "    </tr>\n",
       "  </tbody>\n",
       "</table>\n",
       "</div>"
      ],
      "text/plain": [
       "    S32  S36  gf0  gf1  f1  f2       f3      f4  sameL0_prev  sameL0_next  \\\n",
       "ID                                                                          \n",
       "4   NaN  NaN -1.0 -1.0   0  -2 -2314450 -224451            0            0   \n",
       "6   NaN  NaN -1.0 -1.0   2  -1 -2284042  -67530            0            0   \n",
       "7   NaN  NaN -1.0 -1.0   1  -2 -2313512  -26876            0            0   \n",
       "\n",
       "    sameL1_prev  sameL1_next  sameL2_prev  sameL2_next  sameL3_prev  \\\n",
       "ID                                                                    \n",
       "4             0            1            0            0            0   \n",
       "6             1            1            0            1            0   \n",
       "7             1            0            1            0            0   \n",
       "\n",
       "    sameL3_next  \n",
       "ID               \n",
       "4             0  \n",
       "6             0  \n",
       "7             0  "
      ]
     },
     "execution_count": 9,
     "metadata": {},
     "output_type": "execute_result"
    }
   ],
   "source": [
    "df2 = pd.read_csv(os.path.join(const.DATA_PATH, 'feat_set_jayjay_same_L_new_0.csv'), index_col='ID')\n",
    "\n",
    "df_out[df2.columns] = df2[df2.columns]\n",
    "df_out.head(3)"
   ]
  },
  {
   "cell_type": "code",
   "execution_count": 10,
   "metadata": {
    "collapsed": true
   },
   "outputs": [],
   "source": [
    "df_out.to_csv(os.path.join(const.BASE_PATH, 'submission_analysis_feat_set.csv'), index_label='ID')"
   ]
  },
  {
   "cell_type": "code",
   "execution_count": 11,
   "metadata": {
    "collapsed": true
   },
   "outputs": [],
   "source": [
    "#y_train = func.read_last_column(os.path.join(const.BASE_PATH, const.TRAIN_FILES[0] + '.csv'))"
   ]
  },
  {
   "cell_type": "code",
   "execution_count": 12,
   "metadata": {
    "collapsed": true
   },
   "outputs": [],
   "source": [
    "@jit\n",
    "def mcc(tp, tn, fp, fn):\n",
    "    sup = tp * tn - fp * fn\n",
    "    inf = (tp + fp) * (tp + fn) * (tn + fp) * (tn + fn)\n",
    "    if inf==0:\n",
    "        return 0\n",
    "    else:\n",
    "        return sup / np.sqrt(inf)\n",
    "\n",
    "@jit\n",
    "def eval_mcc(y_true, y_prob, show=False):\n",
    "    idx = np.argsort(y_prob)\n",
    "    y_true_sort = y_true[idx]\n",
    "    n = y_true.shape[0]\n",
    "    nump = 1.0 * np.sum(y_true) # number of positive\n",
    "    numn = n - nump # number of negative\n",
    "    tp = nump\n",
    "    tn = 0.0\n",
    "    fp = numn\n",
    "    fn = 0.0\n",
    "    best_mcc = 0.0\n",
    "    best_id = -1\n",
    "    prev_proba = -1\n",
    "    best_proba = -1\n",
    "    mccs = np.zeros(n)\n",
    "    for i in range(n):\n",
    "        # all items with idx < i are predicted negative while others are predicted positive\n",
    "        # only evaluate mcc when probability changes\n",
    "        proba = y_prob[idx[i]]\n",
    "        if proba != prev_proba:\n",
    "            prev_proba = proba\n",
    "            new_mcc = mcc(tp, tn, fp, fn)\n",
    "            if new_mcc >= best_mcc:\n",
    "                best_mcc = new_mcc\n",
    "                best_id = i\n",
    "                best_proba = proba\n",
    "        mccs[i] = new_mcc\n",
    "        if y_true_sort[i] == 1:\n",
    "            tp -= 1.0\n",
    "            fn += 1.0\n",
    "        else:\n",
    "            fp -= 1.0\n",
    "            tn += 1.0\n",
    "    if show:\n",
    "        y_pred = (y_prob >= best_proba).astype(int)\n",
    "        #score = matthews_corrcoef(y_true, y_pred)\n",
    "        score = mcc(tp, tn, fp, fn)\n",
    "        print(score, best_mcc)\n",
    "        plt.plot(mccs)\n",
    "        return best_proba, best_mcc, y_pred\n",
    "    else:\n",
    "        return best_mcc, best_proba, tp, tn, fp, fn"
   ]
  },
  {
   "cell_type": "code",
   "execution_count": 13,
   "metadata": {
    "collapsed": false
   },
   "outputs": [],
   "source": [
    "train = feather.read_dataframe('divers/tr_stack1.feather')\n",
    "test = feather.read_dataframe('divers/te_stack1.feather')\n",
    "\n",
    "train.index = id_tr.Id\n",
    "test.index = id_te.Id\n",
    "\n",
    "# Put Y as first column\n",
    "R = train['Y']\n",
    "train.drop('Y', axis=1, inplace=True)"
   ]
  },
  {
   "cell_type": "code",
   "execution_count": 14,
   "metadata": {
    "collapsed": false
   },
   "outputs": [],
   "source": [
    "df_agg = pd.DataFrame(index=train.columns)"
   ]
  },
  {
   "cell_type": "code",
   "execution_count": 15,
   "metadata": {
    "collapsed": false
   },
   "outputs": [
    {
     "name": "stderr",
     "output_type": "stream",
     "text": [
      "/Users/joostbloom/anaconda/lib/python2.7/site-packages/numba/dataflow.py:297: RuntimeWarning: Python2 style print partially supported.  Please use Python3 style print.\n",
      "  \"Python3 style print.\", RuntimeWarning)\n"
     ]
    }
   ],
   "source": [
    "# Determine threshold/mcc per model in train set\n",
    "for col in train.columns:\n",
    "    tmp = eval_mcc(R.values, train[col].values)\n",
    "    df_agg.loc[col, 'mcc'] = tmp[0]\n",
    "    df_agg.loc[col, 'tr'] = tmp[1]"
   ]
  },
  {
   "cell_type": "code",
   "execution_count": 16,
   "metadata": {
    "collapsed": false
   },
   "outputs": [],
   "source": [
    "# Transform train and test to 0/1 predictions\n",
    "for col in train.columns:\n",
    "    train.loc[:, col] = (train.loc[:,col]>df_agg.loc[col, 'tr']).astype(int)\n",
    "    test.loc[:, col] = (test.loc[:,col]>df_agg.loc[col, 'tr']).astype(int)"
   ]
  },
  {
   "cell_type": "code",
   "execution_count": 17,
   "metadata": {
    "collapsed": false
   },
   "outputs": [],
   "source": [
    "# Add number of positives to each model\n",
    "df_agg['r_count'] = R.sum()\n",
    "df_agg['r_count_train'] = train.sum(0)\n",
    "df_agg['r_count_test'] = test.sum(0)"
   ]
  },
  {
   "cell_type": "code",
   "execution_count": 18,
   "metadata": {
    "collapsed": false
   },
   "outputs": [
    {
     "data": {
      "text/html": [
       "<div>\n",
       "<table border=\"1\" class=\"dataframe\">\n",
       "  <thead>\n",
       "    <tr style=\"text-align: right;\">\n",
       "      <th></th>\n",
       "      <th>mcc</th>\n",
       "      <th>tr</th>\n",
       "      <th>r_count</th>\n",
       "      <th>r_count_train</th>\n",
       "      <th>r_count_test</th>\n",
       "    </tr>\n",
       "  </thead>\n",
       "  <tbody>\n",
       "    <tr>\n",
       "      <th>xgb_jay</th>\n",
       "      <td>0.450187</td>\n",
       "      <td>0.422528</td>\n",
       "      <td>6879.0</td>\n",
       "      <td>2816</td>\n",
       "      <td>2735</td>\n",
       "    </tr>\n",
       "    <tr>\n",
       "      <th>gbm_jay</th>\n",
       "      <td>0.474026</td>\n",
       "      <td>0.411417</td>\n",
       "      <td>6879.0</td>\n",
       "      <td>2939</td>\n",
       "      <td>3000</td>\n",
       "    </tr>\n",
       "    <tr>\n",
       "      <th>rf_jay</th>\n",
       "      <td>0.397868</td>\n",
       "      <td>0.239798</td>\n",
       "      <td>6879.0</td>\n",
       "      <td>1735</td>\n",
       "      <td>1782</td>\n",
       "    </tr>\n",
       "  </tbody>\n",
       "</table>\n",
       "</div>"
      ],
      "text/plain": [
       "              mcc        tr  r_count  r_count_train  r_count_test\n",
       "xgb_jay  0.450187  0.422528   6879.0           2816          2735\n",
       "gbm_jay  0.474026  0.411417   6879.0           2939          3000\n",
       "rf_jay   0.397868  0.239798   6879.0           1735          1782"
      ]
     },
     "execution_count": 18,
     "metadata": {},
     "output_type": "execute_result"
    }
   ],
   "source": [
    "df_agg.head(3)"
   ]
  },
  {
   "cell_type": "markdown",
   "metadata": {},
   "source": [
    "# Data & methods"
   ]
  },
  {
   "cell_type": "code",
   "execution_count": 19,
   "metadata": {
    "collapsed": true
   },
   "outputs": [],
   "source": [
    "writer = pd.ExcelWriter('submission_compared.xlsx', engine='xlsxwriter')\n",
    "sheet = 'model_lvl1_compared'"
   ]
  },
  {
   "cell_type": "code",
   "execution_count": 20,
   "metadata": {
    "collapsed": false
   },
   "outputs": [],
   "source": [
    "from xlsxwriter.utility import xl_range"
   ]
  },
  {
   "cell_type": "code",
   "execution_count": 22,
   "metadata": {
    "collapsed": true
   },
   "outputs": [],
   "source": [
    "def test_pred_on_feature(feat, y_pred, showplot=False, bins=None, output=['mean']):\n",
    "    \n",
    "    #target_name = y_train.columns[0]\n",
    "    \n",
    "    y = y_pred.copy()\n",
    "    \n",
    "    # Bin feat data if requested\n",
    "    if bins:\n",
    "        feat = pd.cut(feat, bins)\n",
    "    \n",
    "    y[feat.name] = feat\n",
    "    \n",
    "    output = y.groupby(feat.name).agg(output)\n",
    "    #output['Ratio 0v1'] = np.abs(output[labels[0]]['mean'] / output['0: Train']['mean'])\n",
    "    #output['Diff 0v1'] = np.abs(output['Train']['sum'] - output[labels[0]]['sum'])\n",
    "    #output['Ratio 0v2'] = np.abs(output[labels[1]]['mean'] / output['0: Train']['mean'])\n",
    "    #output['Diff 0v2'] = np.abs(output['Train']['sum'] - output[labels[1]]['sum'])\n",
    "    #output.replace(np.inf, 0, inplace=True)\n",
    "    \n",
    "    return output"
   ]
  },
  {
   "cell_type": "code",
   "execution_count": 23,
   "metadata": {
    "collapsed": false
   },
   "outputs": [
    {
     "name": "stdout",
     "output_type": "stream",
     "text": [
      "Inserting S32\n",
      "Inserting S36\n",
      "Inserting gf0\n",
      "Inserting gf1\n",
      "Inserting f1\n",
      "Inserting f2\n",
      "Inserting f3\n",
      "Inserting f4\n",
      "Inserting sameL0_prev\n",
      "Inserting sameL0_next\n",
      "Inserting sameL1_prev\n",
      "Inserting sameL1_next\n",
      "Inserting sameL2_prev\n",
      "Inserting sameL2_next\n",
      "Inserting sameL3_prev\n",
      "Inserting sameL3_next\n"
     ]
    }
   ],
   "source": [
    "startrow = 0\n",
    "\n",
    "df_agg.transpose().to_excel(writer, sheet_name=sheet, startrow=startrow)\n",
    "startrow += df_agg.shape[1] + 2\n",
    "\n",
    "for col in df_out.columns:\n",
    "    print('Inserting {}'.format(col))\n",
    "    bins = None\n",
    "    if col in ['f1','f2','f3','f4']:\n",
    "        top = df_out[col].value_counts().index[0]\n",
    "        bins=[df_out[col].min(), top-0.5, top+0.5, df_out[col].max()]\n",
    "    \n",
    "    output_base = test_pred_on_feature(df_out[col], pd.DataFrame(R), bins=bins, output=['mean','sum'])\n",
    "    output_pred = test_pred_on_feature(df_out[col], test, bins=bins, output=['sum'])\n",
    "    \n",
    "    output = (output_pred.apply(lambda x: x.astype(float) / output_base['Y']['sum'], axis=0))\n",
    "    output = pd.concat([output_base, output], axis=1, join='inner')\n",
    "    output.replace(np.inf, 0, inplace=True)\n",
    "    summed = pd.DataFrame(output.mean(0)).transpose()\n",
    "    summed.index = ['mean']\n",
    "    \n",
    "    cols = list(output.columns.droplevel(1))\n",
    "    cols[0] = 'y'\n",
    "    output.columns = cols\n",
    "    \n",
    "    output.to_excel(writer, sheet_name=sheet, startrow=startrow)\n",
    "    startrow += output.shape[0] + 3\n",
    "    summed.to_excel(writer, sheet_name=sheet, startrow=startrow-3, header=False)\n",
    "        \n",
    "    worksheet = writer.sheets[sheet]\n",
    "    ran = xl_range(startrow-2, 3, startrow-2, output.shape[1])\n",
    "    worksheet.conditional_format(ran, {'type': '3_color_scale'})\n",
    "    #worksheet.conditional_format('K4:K' + str(startrow), {'type': '3_color_scale'})\n",
    "    #worksheet.conditional_format('O4:O' + str(startrow), {'type': '3_color_scale'})\n",
    "    \n",
    "\n",
    "writer.save()"
   ]
  }
 ],
 "metadata": {
  "kernelspec": {
   "display_name": "Python 2",
   "language": "python",
   "name": "python2"
  },
  "language_info": {
   "codemirror_mode": {
    "name": "ipython",
    "version": 2
   },
   "file_extension": ".py",
   "mimetype": "text/x-python",
   "name": "python",
   "nbconvert_exporter": "python",
   "pygments_lexer": "ipython2",
   "version": "2.7.11"
  }
 },
 "nbformat": 4,
 "nbformat_minor": 0
}
