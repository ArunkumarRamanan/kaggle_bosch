{
 "cells": [
  {
   "cell_type": "markdown",
   "metadata": {},
   "source": [
    "# Create path features\n",
    "Paths are created based on date features only (0.2% error)"
   ]
  },
  {
   "cell_type": "code",
   "execution_count": 1,
   "metadata": {
    "collapsed": true
   },
   "outputs": [],
   "source": [
    "import os\n",
    "import re\n",
    "import pickle\n",
    "import time\n",
    "import datetime\n",
    "\n",
    "import numpy as np\n",
    "import pandas as pd\n",
    "\n",
    "import seaborn as sns\n",
    "import matplotlib.pyplot as plt\n",
    "\n",
    "from scipy.sparse import csr_matrix, vstack\n",
    "\n",
    "%matplotlib inline\n",
    "\n",
    "# Custom modules\n",
    "import const\n",
    "import func"
   ]
  },
  {
   "cell_type": "markdown",
   "metadata": {},
   "source": [
    "## Load data"
   ]
  },
  {
   "cell_type": "code",
   "execution_count": 2,
   "metadata": {
    "collapsed": false
   },
   "outputs": [
    {
     "name": "stdout",
     "output_type": "stream",
     "text": [
      "['train_numeric', 'train_categorical_to_num', 'train_date']\n",
      "['test_numeric', 'test_categorical_to_num', 'test_date']\n"
     ]
    }
   ],
   "source": [
    "print const.TRAIN_FILES\n",
    "print const.TEST_FILES"
   ]
  },
  {
   "cell_type": "code",
   "execution_count": 3,
   "metadata": {
    "collapsed": false
   },
   "outputs": [
    {
     "data": {
      "text/html": [
       "<div>\n",
       "<table border=\"1\" class=\"dataframe\">\n",
       "  <thead>\n",
       "    <tr style=\"text-align: right;\">\n",
       "      <th></th>\n",
       "      <th>line</th>\n",
       "      <th>station</th>\n",
       "      <th>feature_nr</th>\n",
       "      <th>feat_nr_dat</th>\n",
       "      <th>name_cat</th>\n",
       "      <th>name_num</th>\n",
       "      <th>col_dat</th>\n",
       "      <th>col_num</th>\n",
       "      <th>col_cat</th>\n",
       "      <th>station_V2</th>\n",
       "      <th>line_V2</th>\n",
       "    </tr>\n",
       "    <tr>\n",
       "      <th>name_dat</th>\n",
       "      <th></th>\n",
       "      <th></th>\n",
       "      <th></th>\n",
       "      <th></th>\n",
       "      <th></th>\n",
       "      <th></th>\n",
       "      <th></th>\n",
       "      <th></th>\n",
       "      <th></th>\n",
       "      <th></th>\n",
       "      <th></th>\n",
       "    </tr>\n",
       "  </thead>\n",
       "  <tbody>\n",
       "    <tr>\n",
       "      <th>L0_S0_D1</th>\n",
       "      <td>0</td>\n",
       "      <td>0</td>\n",
       "      <td>0</td>\n",
       "      <td>1.0</td>\n",
       "      <td>NaN</td>\n",
       "      <td>L0_S0_F0</td>\n",
       "      <td>0.0</td>\n",
       "      <td>0.0</td>\n",
       "      <td>NaN</td>\n",
       "      <td>0.0</td>\n",
       "      <td>1.0</td>\n",
       "    </tr>\n",
       "    <tr>\n",
       "      <th>L0_S0_D3</th>\n",
       "      <td>0</td>\n",
       "      <td>0</td>\n",
       "      <td>2</td>\n",
       "      <td>3.0</td>\n",
       "      <td>NaN</td>\n",
       "      <td>L0_S0_F2</td>\n",
       "      <td>1.0</td>\n",
       "      <td>1.0</td>\n",
       "      <td>NaN</td>\n",
       "      <td>0.0</td>\n",
       "      <td>1.0</td>\n",
       "    </tr>\n",
       "    <tr>\n",
       "      <th>L0_S0_D5</th>\n",
       "      <td>0</td>\n",
       "      <td>0</td>\n",
       "      <td>4</td>\n",
       "      <td>5.0</td>\n",
       "      <td>NaN</td>\n",
       "      <td>L0_S0_F4</td>\n",
       "      <td>2.0</td>\n",
       "      <td>2.0</td>\n",
       "      <td>NaN</td>\n",
       "      <td>0.0</td>\n",
       "      <td>1.0</td>\n",
       "    </tr>\n",
       "  </tbody>\n",
       "</table>\n",
       "</div>"
      ],
      "text/plain": [
       "          line  station  feature_nr  feat_nr_dat name_cat  name_num  col_dat  \\\n",
       "name_dat                                                                       \n",
       "L0_S0_D1     0        0           0          1.0      NaN  L0_S0_F0      0.0   \n",
       "L0_S0_D3     0        0           2          3.0      NaN  L0_S0_F2      1.0   \n",
       "L0_S0_D5     0        0           4          5.0      NaN  L0_S0_F4      2.0   \n",
       "\n",
       "          col_num  col_cat  station_V2  line_V2  \n",
       "name_dat                                         \n",
       "L0_S0_D1      0.0      NaN         0.0      1.0  \n",
       "L0_S0_D3      1.0      NaN         0.0      1.0  \n",
       "L0_S0_D5      2.0      NaN         0.0      1.0  "
      ]
     },
     "execution_count": 3,
     "metadata": {},
     "output_type": "execute_result"
    }
   ],
   "source": [
    "lut = pd.read_csv(const.LOOK_UP_TABLE)\n",
    "lut.set_index('name_dat', inplace=True)\n",
    "lut.head(3)"
   ]
  },
  {
   "cell_type": "code",
   "execution_count": 4,
   "metadata": {
    "collapsed": false
   },
   "outputs": [
    {
     "name": "stdout",
     "output_type": "stream",
     "text": [
      "Returning <open file '/Volumes/My Book/kaggle_bosch/train_date.pkl', mode 'rb' at 0x115b3bb70>.pkl\n",
      "Returning <open file '/Volumes/My Book/kaggle_bosch/test_date.pkl', mode 'rb' at 0x115b3bb70>.pkl\n"
     ]
    }
   ],
   "source": [
    "date_train = func.load_data_file(const.TRAIN_FILES[2])\n",
    "date_test = func.load_data_file(const.TEST_FILES[2])"
   ]
  },
  {
   "cell_type": "code",
   "execution_count": 5,
   "metadata": {
    "collapsed": true
   },
   "outputs": [],
   "source": [
    "date_data = vstack([date_train['data']['features'],date_test['data']['features']], format='csr')\n",
    "ids = pd.concat([date_train['data']['ids'], date_test['data']['ids']])\n",
    "y = date_train['data']['y']"
   ]
  },
  {
   "cell_type": "code",
   "execution_count": 6,
   "metadata": {
    "collapsed": true
   },
   "outputs": [],
   "source": [
    "st_columns = lut.groupby('station_V2')['col_dat'].first().values\n",
    "st_names = lut.groupby('station_V2')['col_dat'].first().index.values"
   ]
  },
  {
   "cell_type": "code",
   "execution_count": 7,
   "metadata": {
    "collapsed": true
   },
   "outputs": [],
   "source": [
    "date_data = pd.DataFrame(date_data[:, st_columns].todense()).replace(0, np.nan)\n",
    "date_data.columns = [str(st_names[n]) for n in date_data.columns]"
   ]
  },
  {
   "cell_type": "code",
   "execution_count": 8,
   "metadata": {
    "collapsed": false
   },
   "outputs": [
    {
     "data": {
      "text/html": [
       "<div>\n",
       "<table border=\"1\" class=\"dataframe\">\n",
       "  <thead>\n",
       "    <tr style=\"text-align: right;\">\n",
       "      <th></th>\n",
       "      <th>Id</th>\n",
       "      <th>unique_path</th>\n",
       "      <th>cluster_n8</th>\n",
       "      <th>cluster_n50</th>\n",
       "      <th>cluster_n100</th>\n",
       "      <th>cluster_n500</th>\n",
       "    </tr>\n",
       "  </thead>\n",
       "  <tbody>\n",
       "    <tr>\n",
       "      <th>0</th>\n",
       "      <td>4</td>\n",
       "      <td>13409</td>\n",
       "      <td>3</td>\n",
       "      <td>25</td>\n",
       "      <td>3</td>\n",
       "      <td>127</td>\n",
       "    </tr>\n",
       "    <tr>\n",
       "      <th>1</th>\n",
       "      <td>6</td>\n",
       "      <td>7029</td>\n",
       "      <td>1</td>\n",
       "      <td>45</td>\n",
       "      <td>80</td>\n",
       "      <td>20</td>\n",
       "    </tr>\n",
       "    <tr>\n",
       "      <th>2</th>\n",
       "      <td>7</td>\n",
       "      <td>12763</td>\n",
       "      <td>3</td>\n",
       "      <td>40</td>\n",
       "      <td>11</td>\n",
       "      <td>348</td>\n",
       "    </tr>\n",
       "  </tbody>\n",
       "</table>\n",
       "</div>"
      ],
      "text/plain": [
       "   Id  unique_path  cluster_n8  cluster_n50  cluster_n100  cluster_n500\n",
       "0   4        13409           3           25             3           127\n",
       "1   6         7029           1           45            80            20\n",
       "2   7        12763           3           40            11           348"
      ]
     },
     "execution_count": 8,
     "metadata": {},
     "output_type": "execute_result"
    }
   ],
   "source": [
    "# Add clusters,response and id to data\n",
    "# Add cluster info\n",
    "cluster_info = pd.read_csv(os.path.join(const.DATA_PATH, 'eda_sample_clusters.csv'))\n",
    "cluster_info.head(3)"
   ]
  },
  {
   "cell_type": "code",
   "execution_count": 9,
   "metadata": {
    "collapsed": true
   },
   "outputs": [],
   "source": [
    "date_data = date_data.merge(ids.reset_index(), left_index=True, right_index=True, how='left')"
   ]
  },
  {
   "cell_type": "code",
   "execution_count": 10,
   "metadata": {
    "collapsed": true
   },
   "outputs": [],
   "source": [
    "date_data = date_data.merge(cluster_info, left_on='Id', right_on='Id', how='left')"
   ]
  },
  {
   "cell_type": "code",
   "execution_count": 11,
   "metadata": {
    "collapsed": true
   },
   "outputs": [],
   "source": [
    "date_data = date_data.merge(y, left_on='Id', right_index=True, how='left')"
   ]
  },
  {
   "cell_type": "code",
   "execution_count": 12,
   "metadata": {
    "collapsed": false
   },
   "outputs": [
    {
     "name": "stdout",
     "output_type": "stream",
     "text": [
      "(2367495, 136)\n"
     ]
    },
    {
     "data": {
      "text/html": [
       "<div>\n",
       "<table border=\"1\" class=\"dataframe\">\n",
       "  <thead>\n",
       "    <tr style=\"text-align: right;\">\n",
       "      <th></th>\n",
       "      <th>0.0</th>\n",
       "      <th>1.0</th>\n",
       "      <th>2.0</th>\n",
       "      <th>3.0</th>\n",
       "      <th>4.0</th>\n",
       "      <th>5.0</th>\n",
       "      <th>6.0</th>\n",
       "      <th>7.0</th>\n",
       "      <th>8.0</th>\n",
       "      <th>9.0</th>\n",
       "      <th>...</th>\n",
       "      <th>50.0</th>\n",
       "      <th>51.0</th>\n",
       "      <th>index</th>\n",
       "      <th>Id</th>\n",
       "      <th>unique_path</th>\n",
       "      <th>cluster_n8</th>\n",
       "      <th>cluster_n50</th>\n",
       "      <th>cluster_n100</th>\n",
       "      <th>cluster_n500</th>\n",
       "      <th>Response</th>\n",
       "    </tr>\n",
       "  </thead>\n",
       "  <tbody>\n",
       "    <tr>\n",
       "      <th>0</th>\n",
       "      <td>82.239998</td>\n",
       "      <td>82.239998</td>\n",
       "      <td>82.239998</td>\n",
       "      <td>NaN</td>\n",
       "      <td>82.260002</td>\n",
       "      <td>NaN</td>\n",
       "      <td>NaN</td>\n",
       "      <td>82.260002</td>\n",
       "      <td>82.269997</td>\n",
       "      <td>NaN</td>\n",
       "      <td>...</td>\n",
       "      <td>NaN</td>\n",
       "      <td>NaN</td>\n",
       "      <td>0</td>\n",
       "      <td>4</td>\n",
       "      <td>13409</td>\n",
       "      <td>3</td>\n",
       "      <td>25</td>\n",
       "      <td>3</td>\n",
       "      <td>127</td>\n",
       "      <td>0.0</td>\n",
       "    </tr>\n",
       "    <tr>\n",
       "      <th>1</th>\n",
       "      <td>NaN</td>\n",
       "      <td>NaN</td>\n",
       "      <td>NaN</td>\n",
       "      <td>NaN</td>\n",
       "      <td>NaN</td>\n",
       "      <td>NaN</td>\n",
       "      <td>NaN</td>\n",
       "      <td>NaN</td>\n",
       "      <td>NaN</td>\n",
       "      <td>NaN</td>\n",
       "      <td>...</td>\n",
       "      <td>NaN</td>\n",
       "      <td>NaN</td>\n",
       "      <td>1</td>\n",
       "      <td>6</td>\n",
       "      <td>7029</td>\n",
       "      <td>1</td>\n",
       "      <td>45</td>\n",
       "      <td>80</td>\n",
       "      <td>20</td>\n",
       "      <td>0.0</td>\n",
       "    </tr>\n",
       "    <tr>\n",
       "      <th>2</th>\n",
       "      <td>1618.699951</td>\n",
       "      <td>1618.699951</td>\n",
       "      <td>1618.699951</td>\n",
       "      <td>NaN</td>\n",
       "      <td>NaN</td>\n",
       "      <td>1618.719971</td>\n",
       "      <td>1618.719971</td>\n",
       "      <td>NaN</td>\n",
       "      <td>1618.729980</td>\n",
       "      <td>NaN</td>\n",
       "      <td>...</td>\n",
       "      <td>NaN</td>\n",
       "      <td>NaN</td>\n",
       "      <td>2</td>\n",
       "      <td>7</td>\n",
       "      <td>12763</td>\n",
       "      <td>3</td>\n",
       "      <td>40</td>\n",
       "      <td>11</td>\n",
       "      <td>348</td>\n",
       "      <td>0.0</td>\n",
       "    </tr>\n",
       "  </tbody>\n",
       "</table>\n",
       "<p>3 rows × 136 columns</p>\n",
       "</div>"
      ],
      "text/plain": [
       "           0.0          1.0          2.0  3.0        4.0          5.0  \\\n",
       "0    82.239998    82.239998    82.239998  NaN  82.260002          NaN   \n",
       "1          NaN          NaN          NaN  NaN        NaN          NaN   \n",
       "2  1618.699951  1618.699951  1618.699951  NaN        NaN  1618.719971   \n",
       "\n",
       "           6.0        7.0          8.0  9.0    ...     50.0  51.0  index  Id  \\\n",
       "0          NaN  82.260002    82.269997  NaN    ...      NaN   NaN      0   4   \n",
       "1          NaN        NaN          NaN  NaN    ...      NaN   NaN      1   6   \n",
       "2  1618.719971        NaN  1618.729980  NaN    ...      NaN   NaN      2   7   \n",
       "\n",
       "   unique_path  cluster_n8  cluster_n50  cluster_n100  cluster_n500  Response  \n",
       "0        13409           3           25             3           127       0.0  \n",
       "1         7029           1           45            80            20       0.0  \n",
       "2        12763           3           40            11           348       0.0  \n",
       "\n",
       "[3 rows x 136 columns]"
      ]
     },
     "execution_count": 12,
     "metadata": {},
     "output_type": "execute_result"
    }
   ],
   "source": [
    "print date_data.shape\n",
    "date_data.head(3)"
   ]
  },
  {
   "cell_type": "markdown",
   "metadata": {},
   "source": [
    "## Calculate features"
   ]
  },
  {
   "cell_type": "code",
   "execution_count": 35,
   "metadata": {
    "collapsed": true
   },
   "outputs": [],
   "source": [
    "d_cols = date_data.columns[:128]"
   ]
  },
  {
   "cell_type": "code",
   "execution_count": 13,
   "metadata": {
    "collapsed": true
   },
   "outputs": [],
   "source": [
    "n_samples = date_data.shape[0]"
   ]
  },
  {
   "cell_type": "code",
   "execution_count": 14,
   "metadata": {
    "collapsed": false
   },
   "outputs": [],
   "source": [
    "lines = lut['line_V2'].unique()"
   ]
  },
  {
   "cell_type": "code",
   "execution_count": 15,
   "metadata": {
    "collapsed": true
   },
   "outputs": [],
   "source": [
    "path_feat = pd.DataFrame(ids.Id.values)"
   ]
  },
  {
   "cell_type": "code",
   "execution_count": 16,
   "metadata": {
    "collapsed": false
   },
   "outputs": [],
   "source": [
    "for line in lines:\n",
    "    stations = [str(float(x)) for x in lut[lut['line_V2']==line]['station_V2'].unique()]\n",
    "    \n",
    "    df = (~date_data.loc[:,date_data.columns.isin(stations)].isnull()).sum(1)\n",
    "    df = df.replace(0, np.nan)\n",
    "    \n",
    "    df -= df.value_counts().index[0]\n",
    "\n",
    "    path_feat = pd.concat([path_feat, df], axis=1)"
   ]
  },
  {
   "cell_type": "code",
   "execution_count": 17,
   "metadata": {
    "collapsed": false
   },
   "outputs": [],
   "source": [
    "path_feat.columns = ['Id'] + ['V2_' + str(x) for x in lines if x!='Id']"
   ]
  },
  {
   "cell_type": "code",
   "execution_count": 43,
   "metadata": {
    "collapsed": true
   },
   "outputs": [],
   "source": [
    "# First station\n",
    "path_feat['first_station'] = date_data[d_cols].apply(lambda x: x.first_valid_index(), axis=1)\n",
    "path_feat['last_station'] = date_data[d_cols].apply(lambda x: x.last_valid_index(), axis=1)"
   ]
  },
  {
   "cell_type": "code",
   "execution_count": 18,
   "metadata": {
    "collapsed": false
   },
   "outputs": [
    {
     "data": {
      "text/html": [
       "<div>\n",
       "<table border=\"1\" class=\"dataframe\">\n",
       "  <thead>\n",
       "    <tr style=\"text-align: right;\">\n",
       "      <th></th>\n",
       "      <th>Id</th>\n",
       "      <th>V2_1.0</th>\n",
       "      <th>V2_2.0</th>\n",
       "      <th>V2_3.1</th>\n",
       "      <th>V2_3.2</th>\n",
       "      <th>V2_3.3</th>\n",
       "      <th>V2_4.1</th>\n",
       "      <th>V2_4.0</th>\n",
       "      <th>V2_4.2</th>\n",
       "      <th>V2_4.3</th>\n",
       "      <th>V2_4.4</th>\n",
       "      <th>V2_5.0</th>\n",
       "      <th>V2_6.0</th>\n",
       "      <th>V2_7.0</th>\n",
       "    </tr>\n",
       "  </thead>\n",
       "  <tbody>\n",
       "    <tr>\n",
       "      <th>0</th>\n",
       "      <td>4</td>\n",
       "      <td>0.0</td>\n",
       "      <td>NaN</td>\n",
       "      <td>NaN</td>\n",
       "      <td>NaN</td>\n",
       "      <td>NaN</td>\n",
       "      <td>NaN</td>\n",
       "      <td>NaN</td>\n",
       "      <td>NaN</td>\n",
       "      <td>NaN</td>\n",
       "      <td>NaN</td>\n",
       "      <td>NaN</td>\n",
       "      <td>1.0</td>\n",
       "      <td>NaN</td>\n",
       "    </tr>\n",
       "    <tr>\n",
       "      <th>1</th>\n",
       "      <td>6</td>\n",
       "      <td>NaN</td>\n",
       "      <td>0.0</td>\n",
       "      <td>NaN</td>\n",
       "      <td>NaN</td>\n",
       "      <td>NaN</td>\n",
       "      <td>NaN</td>\n",
       "      <td>NaN</td>\n",
       "      <td>NaN</td>\n",
       "      <td>NaN</td>\n",
       "      <td>NaN</td>\n",
       "      <td>NaN</td>\n",
       "      <td>0.0</td>\n",
       "      <td>NaN</td>\n",
       "    </tr>\n",
       "    <tr>\n",
       "      <th>2</th>\n",
       "      <td>7</td>\n",
       "      <td>0.0</td>\n",
       "      <td>NaN</td>\n",
       "      <td>NaN</td>\n",
       "      <td>NaN</td>\n",
       "      <td>NaN</td>\n",
       "      <td>NaN</td>\n",
       "      <td>NaN</td>\n",
       "      <td>NaN</td>\n",
       "      <td>NaN</td>\n",
       "      <td>NaN</td>\n",
       "      <td>NaN</td>\n",
       "      <td>0.0</td>\n",
       "      <td>NaN</td>\n",
       "    </tr>\n",
       "    <tr>\n",
       "      <th>3</th>\n",
       "      <td>9</td>\n",
       "      <td>0.0</td>\n",
       "      <td>NaN</td>\n",
       "      <td>NaN</td>\n",
       "      <td>NaN</td>\n",
       "      <td>NaN</td>\n",
       "      <td>NaN</td>\n",
       "      <td>NaN</td>\n",
       "      <td>NaN</td>\n",
       "      <td>NaN</td>\n",
       "      <td>NaN</td>\n",
       "      <td>NaN</td>\n",
       "      <td>0.0</td>\n",
       "      <td>NaN</td>\n",
       "    </tr>\n",
       "    <tr>\n",
       "      <th>4</th>\n",
       "      <td>11</td>\n",
       "      <td>0.0</td>\n",
       "      <td>NaN</td>\n",
       "      <td>NaN</td>\n",
       "      <td>NaN</td>\n",
       "      <td>NaN</td>\n",
       "      <td>NaN</td>\n",
       "      <td>NaN</td>\n",
       "      <td>NaN</td>\n",
       "      <td>NaN</td>\n",
       "      <td>NaN</td>\n",
       "      <td>NaN</td>\n",
       "      <td>0.0</td>\n",
       "      <td>NaN</td>\n",
       "    </tr>\n",
       "  </tbody>\n",
       "</table>\n",
       "</div>"
      ],
      "text/plain": [
       "   Id  V2_1.0  V2_2.0  V2_3.1  V2_3.2  V2_3.3  V2_4.1  V2_4.0  V2_4.2  V2_4.3  \\\n",
       "0   4     0.0     NaN     NaN     NaN     NaN     NaN     NaN     NaN     NaN   \n",
       "1   6     NaN     0.0     NaN     NaN     NaN     NaN     NaN     NaN     NaN   \n",
       "2   7     0.0     NaN     NaN     NaN     NaN     NaN     NaN     NaN     NaN   \n",
       "3   9     0.0     NaN     NaN     NaN     NaN     NaN     NaN     NaN     NaN   \n",
       "4  11     0.0     NaN     NaN     NaN     NaN     NaN     NaN     NaN     NaN   \n",
       "\n",
       "   V2_4.4  V2_5.0  V2_6.0  V2_7.0  \n",
       "0     NaN     NaN     1.0     NaN  \n",
       "1     NaN     NaN     0.0     NaN  \n",
       "2     NaN     NaN     0.0     NaN  \n",
       "3     NaN     NaN     0.0     NaN  \n",
       "4     NaN     NaN     0.0     NaN  "
      ]
     },
     "execution_count": 18,
     "metadata": {},
     "output_type": "execute_result"
    }
   ],
   "source": [
    "path_feat.head()"
   ]
  },
  {
   "cell_type": "code",
   "execution_count": 19,
   "metadata": {
    "collapsed": false
   },
   "outputs": [],
   "source": [
    "# Which line in the end\n",
    "path_feat['stage_2'] = path_feat.loc[:,['V2_5.0','V2_6.0']].abs().idxmin(1)"
   ]
  },
  {
   "cell_type": "code",
   "execution_count": 20,
   "metadata": {
    "collapsed": false
   },
   "outputs": [],
   "source": [
    "# Which line in the beginning\n",
    "path_feat['stage_1'] = path_feat.loc[:,['V2_1.0','V2_2.0','V2_3.1','V2_3.2','V2_3.3',\n",
    "                                               'V2_4.1','V2_4.2','V2_4.3','V2_4.4']].abs().idxmin(1)"
   ]
  },
  {
   "cell_type": "code",
   "execution_count": 21,
   "metadata": {
    "collapsed": true
   },
   "outputs": [],
   "source": [
    "# How many lines in the first part?\n",
    "path_feat['stage_1_cnt'] = path_feat.loc[:,['V2_1.0','V2_2.0','V2_3.1','V2_3.2','V2_3.3',\n",
    "                                                   'V2_4.1','V2_4.2','V2_4.3','V2_4.4']].abs().count(1)"
   ]
  },
  {
   "cell_type": "code",
   "execution_count": 22,
   "metadata": {
    "collapsed": true
   },
   "outputs": [],
   "source": [
    "# Compress stage1\n",
    "path_feat['stage_1_sum'] = path_feat.loc[:,['V2_1.0','V2_2.0','V2_3.1','V2_3.2','V2_3.3',\n",
    "                                                   'V2_4.1','V2_4.2','V2_4.3','V2_4.4']].sum(1)"
   ]
  },
  {
   "cell_type": "code",
   "execution_count": 23,
   "metadata": {
    "collapsed": true
   },
   "outputs": [],
   "source": [
    "# Compress stage2\n",
    "path_feat['stage_2_sum'] = path_feat.loc[:,['V2_5.0','V2_6.0']].sum(1)"
   ]
  },
  {
   "cell_type": "code",
   "execution_count": 24,
   "metadata": {
    "collapsed": false
   },
   "outputs": [],
   "source": [
    "# How many stations in total path\n",
    "path_feat['stationV2_cnt'] = date_data.loc[:,'0.0':'51.0'].count(1)"
   ]
  },
  {
   "cell_type": "code",
   "execution_count": 25,
   "metadata": {
    "collapsed": true
   },
   "outputs": [],
   "source": [
    "# Path nr & clusters\n",
    "path_feat['unique_path'] = date_data['unique_path']\n",
    "path_feat['cluster_n8'] = date_data['cluster_n8']\n",
    "path_feat['cluster_n50'] = date_data['cluster_n50']\n",
    "path_feat['cluster_n100'] = date_data['cluster_n100']\n",
    "path_feat['cluster_n500'] = date_data['cluster_n500']"
   ]
  },
  {
   "cell_type": "code",
   "execution_count": 26,
   "metadata": {
    "collapsed": true
   },
   "outputs": [],
   "source": [
    "# How many stations in total path (deviation from cluster median)\n",
    "path_feat['stage_1_sum_devn8'] = path_feat['stage_1_sum']\n",
    "for cl in path_feat['cluster_n8'].unique():\n",
    "        path_feat.loc[path_feat['cluster_n8']==cl, 'stage_1_sum_devn8'] -= \\\n",
    "                path_feat.loc[path_feat['cluster_n8']==cl,'stage_1_sum'].median()"
   ]
  },
  {
   "cell_type": "code",
   "execution_count": 27,
   "metadata": {
    "collapsed": true
   },
   "outputs": [],
   "source": [
    "# How many stations in total path (deviation from cluster median)\n",
    "path_feat['stationV2_cnt_devn8'] = path_feat['stationV2_cnt']\n",
    "for cl in path_feat['cluster_n8'].unique():\n",
    "        path_feat.loc[path_feat['cluster_n8']==cl, 'stationV2_cnt_devn8'] -= \\\n",
    "                path_feat.loc[path_feat['cluster_n8']==cl,'stationV2_cnt'].median()"
   ]
  },
  {
   "cell_type": "code",
   "execution_count": 28,
   "metadata": {
    "collapsed": false
   },
   "outputs": [],
   "source": [
    "# Frequency of cluster (n=500)\n",
    "n500_cnt = ((path_feat['cluster_n500'].value_counts()/n_samples).round(4)*10000).astype(int) \\\n",
    "                                         .reset_index(name='n500_cnt') \\\n",
    "                                         .rename(columns={'index': 'cluster_n500'})\n",
    "\n",
    "path_feat = path_feat.merge(n500_cnt, on='cluster_n500', how='left')    "
   ]
  },
  {
   "cell_type": "code",
   "execution_count": 29,
   "metadata": {
    "collapsed": false
   },
   "outputs": [],
   "source": [
    "# Frequency of unique path\n",
    "upath_cnt = ((path_feat['unique_path'].value_counts()/n_samples).round(4)*10000).astype(int) \\\n",
    "                                         .reset_index(name='upath_cnt') \\\n",
    "                                         .rename(columns={'index': 'unique_path'})\n",
    "\n",
    "path_feat = path_feat.merge(upath_cnt, on='unique_path', how='left')  "
   ]
  },
  {
   "cell_type": "code",
   "execution_count": 51,
   "metadata": {
    "collapsed": false
   },
   "outputs": [],
   "source": [
    "# Combination of S32 / 33\n",
    "path_feat['path_32'] = ((~date_data['32.0'].isnull()) & (date_data['33.0'].isnull()))"
   ]
  },
  {
   "cell_type": "code",
   "execution_count": 30,
   "metadata": {
    "collapsed": false
   },
   "outputs": [
    {
     "data": {
      "text/html": [
       "<div>\n",
       "<table border=\"1\" class=\"dataframe\">\n",
       "  <thead>\n",
       "    <tr style=\"text-align: right;\">\n",
       "      <th></th>\n",
       "      <th>Id</th>\n",
       "      <th>V2_1.0</th>\n",
       "      <th>V2_2.0</th>\n",
       "      <th>V2_3.1</th>\n",
       "      <th>V2_3.2</th>\n",
       "      <th>V2_3.3</th>\n",
       "      <th>V2_4.1</th>\n",
       "      <th>V2_4.0</th>\n",
       "      <th>V2_4.2</th>\n",
       "      <th>V2_4.3</th>\n",
       "      <th>...</th>\n",
       "      <th>stationV2_cnt</th>\n",
       "      <th>unique_path</th>\n",
       "      <th>cluster_n8</th>\n",
       "      <th>cluster_n50</th>\n",
       "      <th>cluster_n100</th>\n",
       "      <th>cluster_n500</th>\n",
       "      <th>stage_1_sum_devn8</th>\n",
       "      <th>stationV2_cnt_devn8</th>\n",
       "      <th>n500_cnt</th>\n",
       "      <th>upath_cnt</th>\n",
       "    </tr>\n",
       "  </thead>\n",
       "  <tbody>\n",
       "    <tr>\n",
       "      <th>0</th>\n",
       "      <td>4</td>\n",
       "      <td>0.0</td>\n",
       "      <td>NaN</td>\n",
       "      <td>NaN</td>\n",
       "      <td>NaN</td>\n",
       "      <td>NaN</td>\n",
       "      <td>NaN</td>\n",
       "      <td>NaN</td>\n",
       "      <td>NaN</td>\n",
       "      <td>NaN</td>\n",
       "      <td>...</td>\n",
       "      <td>14</td>\n",
       "      <td>13409</td>\n",
       "      <td>3</td>\n",
       "      <td>25</td>\n",
       "      <td>3</td>\n",
       "      <td>127</td>\n",
       "      <td>0.0</td>\n",
       "      <td>1.0</td>\n",
       "      <td>108</td>\n",
       "      <td>4</td>\n",
       "    </tr>\n",
       "    <tr>\n",
       "      <th>1</th>\n",
       "      <td>6</td>\n",
       "      <td>NaN</td>\n",
       "      <td>0.0</td>\n",
       "      <td>NaN</td>\n",
       "      <td>NaN</td>\n",
       "      <td>NaN</td>\n",
       "      <td>NaN</td>\n",
       "      <td>NaN</td>\n",
       "      <td>NaN</td>\n",
       "      <td>NaN</td>\n",
       "      <td>...</td>\n",
       "      <td>13</td>\n",
       "      <td>7029</td>\n",
       "      <td>1</td>\n",
       "      <td>45</td>\n",
       "      <td>80</td>\n",
       "      <td>20</td>\n",
       "      <td>0.0</td>\n",
       "      <td>0.0</td>\n",
       "      <td>38</td>\n",
       "      <td>31</td>\n",
       "    </tr>\n",
       "    <tr>\n",
       "      <th>2</th>\n",
       "      <td>7</td>\n",
       "      <td>0.0</td>\n",
       "      <td>NaN</td>\n",
       "      <td>NaN</td>\n",
       "      <td>NaN</td>\n",
       "      <td>NaN</td>\n",
       "      <td>NaN</td>\n",
       "      <td>NaN</td>\n",
       "      <td>NaN</td>\n",
       "      <td>NaN</td>\n",
       "      <td>...</td>\n",
       "      <td>13</td>\n",
       "      <td>12763</td>\n",
       "      <td>3</td>\n",
       "      <td>40</td>\n",
       "      <td>11</td>\n",
       "      <td>348</td>\n",
       "      <td>0.0</td>\n",
       "      <td>0.0</td>\n",
       "      <td>110</td>\n",
       "      <td>86</td>\n",
       "    </tr>\n",
       "    <tr>\n",
       "      <th>3</th>\n",
       "      <td>9</td>\n",
       "      <td>0.0</td>\n",
       "      <td>NaN</td>\n",
       "      <td>NaN</td>\n",
       "      <td>NaN</td>\n",
       "      <td>NaN</td>\n",
       "      <td>NaN</td>\n",
       "      <td>NaN</td>\n",
       "      <td>NaN</td>\n",
       "      <td>NaN</td>\n",
       "      <td>...</td>\n",
       "      <td>13</td>\n",
       "      <td>13658</td>\n",
       "      <td>3</td>\n",
       "      <td>43</td>\n",
       "      <td>34</td>\n",
       "      <td>204</td>\n",
       "      <td>0.0</td>\n",
       "      <td>0.0</td>\n",
       "      <td>112</td>\n",
       "      <td>88</td>\n",
       "    </tr>\n",
       "    <tr>\n",
       "      <th>4</th>\n",
       "      <td>11</td>\n",
       "      <td>0.0</td>\n",
       "      <td>NaN</td>\n",
       "      <td>NaN</td>\n",
       "      <td>NaN</td>\n",
       "      <td>NaN</td>\n",
       "      <td>NaN</td>\n",
       "      <td>NaN</td>\n",
       "      <td>NaN</td>\n",
       "      <td>NaN</td>\n",
       "      <td>...</td>\n",
       "      <td>13</td>\n",
       "      <td>9865</td>\n",
       "      <td>3</td>\n",
       "      <td>38</td>\n",
       "      <td>26</td>\n",
       "      <td>180</td>\n",
       "      <td>0.0</td>\n",
       "      <td>0.0</td>\n",
       "      <td>110</td>\n",
       "      <td>86</td>\n",
       "    </tr>\n",
       "  </tbody>\n",
       "</table>\n",
       "<p>5 rows × 29 columns</p>\n",
       "</div>"
      ],
      "text/plain": [
       "   Id  V2_1.0  V2_2.0  V2_3.1  V2_3.2  V2_3.3  V2_4.1  V2_4.0  V2_4.2  V2_4.3  \\\n",
       "0   4     0.0     NaN     NaN     NaN     NaN     NaN     NaN     NaN     NaN   \n",
       "1   6     NaN     0.0     NaN     NaN     NaN     NaN     NaN     NaN     NaN   \n",
       "2   7     0.0     NaN     NaN     NaN     NaN     NaN     NaN     NaN     NaN   \n",
       "3   9     0.0     NaN     NaN     NaN     NaN     NaN     NaN     NaN     NaN   \n",
       "4  11     0.0     NaN     NaN     NaN     NaN     NaN     NaN     NaN     NaN   \n",
       "\n",
       "     ...      stationV2_cnt  unique_path  cluster_n8  cluster_n50  \\\n",
       "0    ...                 14        13409           3           25   \n",
       "1    ...                 13         7029           1           45   \n",
       "2    ...                 13        12763           3           40   \n",
       "3    ...                 13        13658           3           43   \n",
       "4    ...                 13         9865           3           38   \n",
       "\n",
       "  cluster_n100 cluster_n500  stage_1_sum_devn8  stationV2_cnt_devn8  n500_cnt  \\\n",
       "0            3          127                0.0                  1.0       108   \n",
       "1           80           20                0.0                  0.0        38   \n",
       "2           11          348                0.0                  0.0       110   \n",
       "3           34          204                0.0                  0.0       112   \n",
       "4           26          180                0.0                  0.0       110   \n",
       "\n",
       "   upath_cnt  \n",
       "0          4  \n",
       "1         31  \n",
       "2         86  \n",
       "3         88  \n",
       "4         86  \n",
       "\n",
       "[5 rows x 29 columns]"
      ]
     },
     "execution_count": 30,
     "metadata": {},
     "output_type": "execute_result"
    }
   ],
   "source": [
    "path_feat.head()"
   ]
  },
  {
   "cell_type": "code",
   "execution_count": 31,
   "metadata": {
    "collapsed": false
   },
   "outputs": [
    {
     "data": {
      "text/html": [
       "<div>\n",
       "<table border=\"1\" class=\"dataframe\">\n",
       "  <thead>\n",
       "    <tr style=\"text-align: right;\">\n",
       "      <th></th>\n",
       "      <th>Id</th>\n",
       "      <th>V2_1.0</th>\n",
       "      <th>V2_2.0</th>\n",
       "      <th>V2_3.1</th>\n",
       "      <th>V2_3.2</th>\n",
       "      <th>V2_3.3</th>\n",
       "      <th>V2_4.1</th>\n",
       "      <th>V2_4.0</th>\n",
       "      <th>V2_4.2</th>\n",
       "      <th>V2_4.3</th>\n",
       "      <th>...</th>\n",
       "      <th>stationV2_cnt</th>\n",
       "      <th>unique_path</th>\n",
       "      <th>cluster_n8</th>\n",
       "      <th>cluster_n50</th>\n",
       "      <th>cluster_n100</th>\n",
       "      <th>cluster_n500</th>\n",
       "      <th>stage_1_sum_devn8</th>\n",
       "      <th>stationV2_cnt_devn8</th>\n",
       "      <th>n500_cnt</th>\n",
       "      <th>upath_cnt</th>\n",
       "    </tr>\n",
       "  </thead>\n",
       "  <tbody>\n",
       "    <tr>\n",
       "      <th>0</th>\n",
       "      <td>4</td>\n",
       "      <td>0.0</td>\n",
       "      <td>NaN</td>\n",
       "      <td>NaN</td>\n",
       "      <td>NaN</td>\n",
       "      <td>NaN</td>\n",
       "      <td>NaN</td>\n",
       "      <td>NaN</td>\n",
       "      <td>NaN</td>\n",
       "      <td>NaN</td>\n",
       "      <td>...</td>\n",
       "      <td>14</td>\n",
       "      <td>13409</td>\n",
       "      <td>3</td>\n",
       "      <td>25</td>\n",
       "      <td>3</td>\n",
       "      <td>127</td>\n",
       "      <td>0.0</td>\n",
       "      <td>1.0</td>\n",
       "      <td>108</td>\n",
       "      <td>4</td>\n",
       "    </tr>\n",
       "    <tr>\n",
       "      <th>1</th>\n",
       "      <td>6</td>\n",
       "      <td>NaN</td>\n",
       "      <td>0.0</td>\n",
       "      <td>NaN</td>\n",
       "      <td>NaN</td>\n",
       "      <td>NaN</td>\n",
       "      <td>NaN</td>\n",
       "      <td>NaN</td>\n",
       "      <td>NaN</td>\n",
       "      <td>NaN</td>\n",
       "      <td>...</td>\n",
       "      <td>13</td>\n",
       "      <td>7029</td>\n",
       "      <td>1</td>\n",
       "      <td>45</td>\n",
       "      <td>80</td>\n",
       "      <td>20</td>\n",
       "      <td>0.0</td>\n",
       "      <td>0.0</td>\n",
       "      <td>38</td>\n",
       "      <td>31</td>\n",
       "    </tr>\n",
       "    <tr>\n",
       "      <th>2</th>\n",
       "      <td>7</td>\n",
       "      <td>0.0</td>\n",
       "      <td>NaN</td>\n",
       "      <td>NaN</td>\n",
       "      <td>NaN</td>\n",
       "      <td>NaN</td>\n",
       "      <td>NaN</td>\n",
       "      <td>NaN</td>\n",
       "      <td>NaN</td>\n",
       "      <td>NaN</td>\n",
       "      <td>...</td>\n",
       "      <td>13</td>\n",
       "      <td>12763</td>\n",
       "      <td>3</td>\n",
       "      <td>40</td>\n",
       "      <td>11</td>\n",
       "      <td>348</td>\n",
       "      <td>0.0</td>\n",
       "      <td>0.0</td>\n",
       "      <td>110</td>\n",
       "      <td>86</td>\n",
       "    </tr>\n",
       "    <tr>\n",
       "      <th>3</th>\n",
       "      <td>9</td>\n",
       "      <td>0.0</td>\n",
       "      <td>NaN</td>\n",
       "      <td>NaN</td>\n",
       "      <td>NaN</td>\n",
       "      <td>NaN</td>\n",
       "      <td>NaN</td>\n",
       "      <td>NaN</td>\n",
       "      <td>NaN</td>\n",
       "      <td>NaN</td>\n",
       "      <td>...</td>\n",
       "      <td>13</td>\n",
       "      <td>13658</td>\n",
       "      <td>3</td>\n",
       "      <td>43</td>\n",
       "      <td>34</td>\n",
       "      <td>204</td>\n",
       "      <td>0.0</td>\n",
       "      <td>0.0</td>\n",
       "      <td>112</td>\n",
       "      <td>88</td>\n",
       "    </tr>\n",
       "    <tr>\n",
       "      <th>4</th>\n",
       "      <td>11</td>\n",
       "      <td>0.0</td>\n",
       "      <td>NaN</td>\n",
       "      <td>NaN</td>\n",
       "      <td>NaN</td>\n",
       "      <td>NaN</td>\n",
       "      <td>NaN</td>\n",
       "      <td>NaN</td>\n",
       "      <td>NaN</td>\n",
       "      <td>NaN</td>\n",
       "      <td>...</td>\n",
       "      <td>13</td>\n",
       "      <td>9865</td>\n",
       "      <td>3</td>\n",
       "      <td>38</td>\n",
       "      <td>26</td>\n",
       "      <td>180</td>\n",
       "      <td>0.0</td>\n",
       "      <td>0.0</td>\n",
       "      <td>110</td>\n",
       "      <td>86</td>\n",
       "    </tr>\n",
       "  </tbody>\n",
       "</table>\n",
       "<p>5 rows × 29 columns</p>\n",
       "</div>"
      ],
      "text/plain": [
       "   Id  V2_1.0  V2_2.0  V2_3.1  V2_3.2  V2_3.3  V2_4.1  V2_4.0  V2_4.2  V2_4.3  \\\n",
       "0   4     0.0     NaN     NaN     NaN     NaN     NaN     NaN     NaN     NaN   \n",
       "1   6     NaN     0.0     NaN     NaN     NaN     NaN     NaN     NaN     NaN   \n",
       "2   7     0.0     NaN     NaN     NaN     NaN     NaN     NaN     NaN     NaN   \n",
       "3   9     0.0     NaN     NaN     NaN     NaN     NaN     NaN     NaN     NaN   \n",
       "4  11     0.0     NaN     NaN     NaN     NaN     NaN     NaN     NaN     NaN   \n",
       "\n",
       "     ...      stationV2_cnt  unique_path  cluster_n8  cluster_n50  \\\n",
       "0    ...                 14        13409           3           25   \n",
       "1    ...                 13         7029           1           45   \n",
       "2    ...                 13        12763           3           40   \n",
       "3    ...                 13        13658           3           43   \n",
       "4    ...                 13         9865           3           38   \n",
       "\n",
       "  cluster_n100 cluster_n500  stage_1_sum_devn8  stationV2_cnt_devn8  n500_cnt  \\\n",
       "0            3          127                0.0                  1.0       108   \n",
       "1           80           20                0.0                  0.0        38   \n",
       "2           11          348                0.0                  0.0       110   \n",
       "3           34          204                0.0                  0.0       112   \n",
       "4           26          180                0.0                  0.0       110   \n",
       "\n",
       "   upath_cnt  \n",
       "0          4  \n",
       "1         31  \n",
       "2         86  \n",
       "3         88  \n",
       "4         86  \n",
       "\n",
       "[5 rows x 29 columns]"
      ]
     },
     "execution_count": 31,
     "metadata": {},
     "output_type": "execute_result"
    }
   ],
   "source": [
    "path_feat.head()"
   ]
  },
  {
   "cell_type": "markdown",
   "metadata": {},
   "source": [
    "## Store feature set as csv"
   ]
  },
  {
   "cell_type": "code",
   "execution_count": 52,
   "metadata": {
    "collapsed": false
   },
   "outputs": [],
   "source": [
    "path_feat.to_csv(os.path.join(const.DATA_PATH, 'feat_set_path.csv'), index=False)"
   ]
  },
  {
   "cell_type": "code",
   "execution_count": null,
   "metadata": {
    "collapsed": true
   },
   "outputs": [],
   "source": []
  }
 ],
 "metadata": {
  "kernelspec": {
   "display_name": "Python 2",
   "language": "python",
   "name": "python2"
  },
  "language_info": {
   "codemirror_mode": {
    "name": "ipython",
    "version": 2
   },
   "file_extension": ".py",
   "mimetype": "text/x-python",
   "name": "python",
   "nbconvert_exporter": "python",
   "pygments_lexer": "ipython2",
   "version": "2.7.11"
  }
 },
 "nbformat": 4,
 "nbformat_minor": 0
}
